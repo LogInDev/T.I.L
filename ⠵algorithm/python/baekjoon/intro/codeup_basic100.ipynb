{
 "cells": [
  {
   "cell_type": "markdown",
   "metadata": {},
   "source": [
    "# 특수문자 출력하기\n",
    "- `\\` 출력시 `\\\\`두번 사용하여 출력\n",
    "- `'`, `\"`는 번갈아가면서 사용하거나 +로 출력 "
   ]
  },
  {
   "cell_type": "code",
   "execution_count": 7,
   "metadata": {},
   "outputs": [
    {
     "name": "stdout",
     "output_type": "stream",
     "text": [
      "\"C:\\Download\\'hello'.py\"\n",
      "print(\"Hello\\nWorld\")\n"
     ]
    }
   ],
   "source": [
    "#6007\n",
    "print('\"C:\\\\Download\\\\'+\"'hello'\"+'.py\"')\n",
    "#6008\n",
    "print('print(\"Hello\\\\nWorld\")')"
   ]
  },
  {
   "cell_type": "markdown",
   "metadata": {},
   "source": [
    "\n",
    "# 변환해서 출력하기\n",
    "- 16진수\n",
    "    - print('%x'% 10진수 숫자) >> 10진수 숫자가 16진수(소문자)로 변환돼서 출력됨\n",
    "    - print('%X'% 10진수 숫자) >> 10진수 숫자가 16진수(대문자)로 변환돼서 출력됨\n",
    "    - int(input(), 16) >> 입력된 숫자를 16진수 인식해서 10진수로 변환돼서 변수에 저장\n",
    "- 8진수\n",
    "    - print('%o'% 10진수 숫자) >> 10진수 숫자가 8진수(소문자)로 변환돼서 출력됨\n",
    "- 유니코드\n",
    "    - `ord()`는 유니코드로 인식해서 그에 맞는 숫자로 변환해서 출력한다.\n",
    "    - `chr()`는 숫자를 유니코드로 변환해서 출력한다.(입력시 입력물을 숫자(int)로 변환 후 chr()를 사용해야 함.)"
   ]
  },
  {
   "cell_type": "code",
   "execution_count": 45,
   "metadata": {},
   "outputs": [
    {
     "name": "stdout",
     "output_type": "stream",
     "text": [
      "ff\n",
      "FF\n",
      "17\n",
      "97\n",
      "A\n"
     ]
    }
   ],
   "source": [
    "print('%x'% 255) # 10진수 -> 16진수 대문자\n",
    "print('%X'% 255) # 10진수 -> 16진수 소문자\n",
    "x = 'f'\n",
    "x = int(x, 16)  # 16진수로 인식해서 10진수로 변환해줌\n",
    "print('%o'% x)  # 8진수로 출력해줌\n",
    "a = ord('a') # 유니코드 문자 -> 숫자\n",
    "print(a)\n",
    "b = 65\n",
    "b = chr(int(b)) #숫자 -> 유니코드\n",
    "print(b)"
   ]
  },
  {
   "cell_type": "markdown",
   "metadata": {},
   "source": [
    "# 비트\n",
    "## 비트단위 시프트 연산자\n",
    "- 2진수 형태로 저장되어 있는 값들을 왼쪽(`<<`)이나 오른쪽(`>>`)으로 지정한 비트 수만큼 밀어주면 2배씩 늘어나거나 1/2로 줄어든다.\n",
    "- 왼쪽 비트시프트(`<<`)가 될 때에는 오른쪽에 0이 주어진 개수만큼 추가되고, 오른쪽 비트시프트(`>>`)가 될 때에는 왼쪽에 0(0 또는 양의 정수인 경우)이나1(음의 정수인 경우)이 개수만큼 추가되고, 가장 오른쪽에 있는 1비트는 사라진다.\n",
    "- 예시\n",
    "    - 정수 10의 2진수 표현은 1010 이다.\n",
    "    - `10 << 1`을 계산하면 10100이 된다. 이 값은 10진수로 20이다.\n",
    "    - `10 >> 1`을 계산하면 101이 된다. 이 값은 10진수로 5이다.\n",
    "\n",
    "> ps. `n = 10`과 같이 키보드로 입력받지 않고 직접 작성해 넣은 코드에서, 숫자로 시작하는 단어(식별자, identifier)는 자동으로 수로 인식된다.\n",
    "> python에서 실수 값에 대한 비트시프트 연산은 허용되지 않고 오류가 발생한다.\n",
    "\n",
    "## 비트단위(bitwise) 연산자\n",
    "\n",
    "| `~` | bitwise not |\n",
    "|---|----|\n",
    "|`&`|bitwise and|\n",
    "|`\\|`|bitwise or|\n",
    "|`^`|bitwise xor|\n",
    "|`<<`|bitwise left shift|\n",
    "|`>>`|bitwise right shift|\n",
    "\n",
    "### `~` :tilde(틸드) \n",
    "- 예를 들어 1이 입력되었을 때 저장되는 1을 32비트 2진수로 표현하면\n",
    "\n",
    "00000000 00000000 00000000 00000001 이고,\n",
    "        \n",
    "~1은 11111111 11111111 11111111 11111110 가 되는데 이는 -2를 의미한다.\n",
    "\n",
    "![](./img/3.png)"
   ]
  },
  {
   "cell_type": "code",
   "execution_count": 51,
   "metadata": {},
   "outputs": [
    {
     "name": "stdout",
     "output_type": "stream",
     "text": [
      "20\n",
      "5\n",
      "40\n",
      "2\n"
     ]
    }
   ],
   "source": [
    "n = 10\n",
    "print(n<<1) # 10을 2배 한 값인 20이 출력된다.\n",
    "print(n>>1) # 10을 1/2배 한 값인 5가 출력된다.\n",
    "print(n<<2) # 10을 4배 한 값인 40이 출력된다.\n",
    "print(n>>2) # 10을 1/4배 한 값인 2가 출력된다."
   ]
  },
  {
   "cell_type": "markdown",
   "metadata": {},
   "source": [
    "![](./img/1.png)"
   ]
  },
  {
   "cell_type": "code",
   "execution_count": 12,
   "metadata": {},
   "outputs": [
    {
     "name": "stdout",
     "output_type": "stream",
     "text": [
      "1024\n"
     ]
    }
   ],
   "source": [
    "a, b= input().split()\n",
    "a = int(a)\n",
    "b = int(b)\n",
    "print(a <<b)"
   ]
  },
  {
   "cell_type": "code",
   "execution_count": 37,
   "metadata": {},
   "outputs": [
    {
     "name": "stdout",
     "output_type": "stream",
     "text": [
      "-2\n",
      "1\n"
     ]
    }
   ],
   "source": [
    "n = int(input())\n",
    "print(~n)\n",
    "a, b = input().split()\n",
    "a = int(a)\n",
    "b = int(b)\n",
    "print(a & b)"
   ]
  },
  {
   "cell_type": "markdown",
   "metadata": {},
   "source": [
    "# `bool()`\n",
    "- `bool()`을 이용하면 입력된 식이나 값을 평가해 불 형의 값(`True` 또는 `False`)을 출력해준다.\n",
    "\n",
    " ![](./img/2.png)\n",
    "\n",
    "- `bool()`값을 반대로 출력하려면 `not`을 붙여주면된다."
   ]
  },
  {
   "cell_type": "code",
   "execution_count": 22,
   "metadata": {},
   "outputs": [
    {
     "name": "stdout",
     "output_type": "stream",
     "text": [
      "False\n",
      "True\n"
     ]
    }
   ],
   "source": [
    "n = int(input())\n",
    "print(bool(n))\n",
    "a = bool(int(input()))\n",
    "print(not a)"
   ]
  },
  {
   "cell_type": "code",
   "execution_count": 30,
   "metadata": {},
   "outputs": [
    {
     "name": "stdout",
     "output_type": "stream",
     "text": [
      "True\n",
      "False\n"
     ]
    }
   ],
   "source": [
    "a, b = input().split()\n",
    "a = bool(int(a))\n",
    "b = bool(int(b))\n",
    "# a, b의 참, 거짓이 서로 다를 경우에만 참일것\n",
    "print((a and(not b)) or (b and (not a)))\n",
    "# a,b의 둘 다 참이거나 둘 다 거짓일 경우 참일것\n",
    "print((a and b) or ((not a) and (not b)))"
   ]
  },
  {
   "cell_type": "markdown",
   "metadata": {},
   "source": [
    "# 삼항 연산자\n",
    "- 3개의 요소로 이루어지는 3항 연산은 `x if C else y` 의 형태로 작성이 된다.\n",
    "- `C` : True 또는 False 를 평가할 조건식(conditional expression) 또는 값\n",
    "- `x` : C의 평가 결과가 True 일 때 사용할 값\n",
    "- `y` : C의 평가 결과가 True 가 아닐 때 사용할 값\n",
    "\n",
    "조건식 또는 값이 True 이면 x 값이 사용되고, True가 아니면 y 값이 사용되도록 하는 코드이다.\n",
    "\n",
    "예를 들어<br>\n",
    "0 if 123>456 else 1<br>\n",
    "과 같은 표현식의 평가값은 123 > 456 의 비교연산 결과가 False 이므로 1이 된다."
   ]
  },
  {
   "cell_type": "code",
   "execution_count": 43,
   "metadata": {},
   "outputs": [
    {
     "name": "stdout",
     "output_type": "stream",
     "text": [
      "-1\n"
     ]
    }
   ],
   "source": [
    "#삼항 연산자로 숫자 3개 대소비교\n",
    "a, b, c = input().split() # 3 -1 5\n",
    "a = int(a)\n",
    "b = int(b)\n",
    "c = int(c)\n",
    "print(c if ((a if a<b else b)>c) else (b if a>b else a))"
   ]
  },
  {
   "cell_type": "code",
   "execution_count": 43,
   "metadata": {},
   "outputs": [
    {
     "name": "stdout",
     "output_type": "stream",
     "text": [
      "B*1=B\n",
      "B*2=16\n",
      "B*3=21\n",
      "B*4=2C\n",
      "B*5=37\n",
      "B*6=42\n",
      "B*7=4D\n",
      "B*8=58\n",
      "B*9=63\n",
      "B*A=6E\n",
      "B*B=79\n",
      "B*C=84\n",
      "B*D=8F\n",
      "B*E=9A\n",
      "B*F=A5\n"
     ]
    }
   ],
   "source": [
    "n = int(input(), 16)\n",
    "for i in range(15):\n",
    "    print('%X'% n, '*%X'% (i+1), '=%X'% (n*(i+1)),sep='')"
   ]
  },
  {
   "cell_type": "code",
   "execution_count": 76,
   "metadata": {},
   "outputs": [
    {
     "name": "stdout",
     "output_type": "stream",
     "text": [
      "1 2 4 5 7 8 10 11 13 14 "
     ]
    }
   ],
   "source": [
    "n = int(input())\n",
    "sum=0\n",
    "for i in range(n):\n",
    "    if (i+1) % 3 == 0:\n",
    "        continue\n",
    "    print(i+1, end=' ')"
   ]
  },
  {
   "cell_type": "code",
   "execution_count": 95,
   "metadata": {},
   "outputs": [
    {
     "name": "stdout",
     "output_type": "stream",
     "text": [
      "63\n"
     ]
    }
   ],
   "source": [
    "import math\n",
    "\n",
    "def triGcd(a,b,c):\n",
    "    fst = a * b // math.gcd(a, b)\n",
    "    result = fst * c // math.gcd(fst, c)\n",
    "    return result\n",
    "\n",
    "a, b, c = input().split()\n",
    "a = int(a)\n",
    "b = int(b)\n",
    "c = int(c)\n",
    "print(triGcd(a,b,c))"
   ]
  },
  {
   "cell_type": "code",
   "execution_count": 118,
   "metadata": {},
   "outputs": [
    {
     "name": "stdout",
     "output_type": "stream",
     "text": [
      "2\n"
     ]
    }
   ],
   "source": [
    "a = int(input())\n",
    "arr = list(map(int, input().split()))\n",
    "arr.sort()\n",
    "print(arr[0])"
   ]
  },
  {
   "cell_type": "code",
   "execution_count": 4,
   "metadata": {},
   "outputs": [
    {
     "name": "stdout",
     "output_type": "stream",
     "text": [
      "0 0 0 0 0 0 0 0 0 0 0 0 0 0 0 0 0 0 0 \n",
      "0 0 0 0 0 0 0 0 0 0 0 0 0 0 0 0 0 0 0 \n",
      "0 0 0 0 0 0 0 0 0 0 0 0 0 0 0 0 0 0 0 \n",
      "0 0 0 0 0 0 0 0 0 0 0 0 0 0 0 0 0 0 0 \n",
      "0 0 0 0 0 0 0 0 0 0 0 0 0 0 0 0 0 0 0 \n",
      "0 0 0 0 0 0 0 0 0 0 0 0 0 0 0 0 0 0 0 \n",
      "0 0 0 0 0 0 0 0 0 0 0 0 0 0 0 0 0 0 0 \n",
      "0 0 0 0 0 0 0 0 0 0 0 0 0 0 0 0 0 0 0 \n",
      "0 0 0 0 0 0 0 0 0 0 0 0 0 0 0 0 0 0 0 \n",
      "0 0 0 0 0 0 0 0 0 1 0 1 0 0 0 0 0 0 0 \n",
      "0 0 0 0 0 0 0 0 0 0 0 0 0 0 0 0 0 0 0 \n",
      "0 0 0 0 0 0 0 0 0 1 0 1 0 0 0 0 0 0 0 \n",
      "0 0 0 0 0 0 0 0 0 0 0 0 0 0 0 0 0 0 0 \n",
      "0 0 0 0 0 0 0 0 0 0 0 0 0 0 0 0 0 0 0 \n",
      "0 0 0 0 0 0 0 0 0 0 0 0 0 0 0 0 0 0 0 \n",
      "0 0 0 0 0 0 0 0 0 0 0 0 0 0 0 0 0 0 0 \n",
      "0 0 0 0 0 0 0 0 0 0 0 0 0 0 0 0 0 0 0 \n",
      "0 0 0 0 0 0 0 0 0 0 0 0 0 0 0 0 0 0 0 \n",
      "0 0 0 0 0 0 0 0 0 0 0 0 0 0 0 0 0 0 0 \n"
     ]
    }
   ],
   "source": [
    "baduk = [list(map(int, input().split())) for _ in range(19)]\n",
    "n = int(input())\n",
    "arr = [list(map(int, input().split())) for _ in range(n)]\n",
    "\n",
    "for i in arr:\n",
    "    for j in range(19):\n",
    "        if j == (i[0]-1):\n",
    "            continue\n",
    "        baduk[i[0]-1][j] = 0 if (baduk[i[0]-1][j] == 1) else 1\n",
    "    for j in range(19):\n",
    "        if j == (i[1]-1):\n",
    "            continue\n",
    "        baduk[j][i[1]-1] = 0 if (baduk[j][i[1]-1] == 1) else 1\n",
    "for i in baduk:\n",
    "    for j in i:\n",
    "        print(j,end=' ')\n",
    "    print()"
   ]
  },
  {
   "cell_type": "code",
   "execution_count": 9,
   "metadata": {},
   "outputs": [
    {
     "name": "stdout",
     "output_type": "stream",
     "text": [
      "[[1, 2], [2, 3]]\n"
     ]
    }
   ],
   "source": [
    "arr = [[] for _ in range(19)]\n",
    "for i in range(len(arr)):\n",
    "    arr[i] = list(map(int, input().split()))\n",
    "n = int(input())\n",
    "chkArr = [list(map(int, input().split())) for i in range(n)]\n",
    "for j in chkArr:\n",
    "    for i in range(19):\n",
    "        if i == (j[0]-1):\n",
    "            continue\n",
    "        arr[j[0]-1][i] = 1 if (arr[j[0]-1][i] == 0) else 0\n",
    "        if i == (j[1]-1):\n",
    "            continue\n",
    "        "
   ]
  },
  {
   "cell_type": "code",
   "execution_count": null,
   "metadata": {},
   "outputs": [],
   "source": []
  }
 ],
 "metadata": {
  "kernelspec": {
   "display_name": "py310",
   "language": "python",
   "name": "py310"
  },
  "language_info": {
   "codemirror_mode": {
    "name": "ipython",
    "version": 3
   },
   "file_extension": ".py",
   "mimetype": "text/x-python",
   "name": "python",
   "nbconvert_exporter": "python",
   "pygments_lexer": "ipython3",
   "version": "3.10.11"
  }
 },
 "nbformat": 4,
 "nbformat_minor": 2
}
