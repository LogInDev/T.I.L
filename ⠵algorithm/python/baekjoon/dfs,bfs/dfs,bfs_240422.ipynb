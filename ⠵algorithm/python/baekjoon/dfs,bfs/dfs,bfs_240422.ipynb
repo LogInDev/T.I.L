{
 "cells": [
  {
   "cell_type": "markdown",
   "metadata": {},
   "source": [
    "# 과제 리뷰\n",
    "\n",
    "- [백준 2747 - 피보나치 수](https://www.acmicpc.net/problem/2747)"
   ]
  },
  {
   "cell_type": "code",
   "execution_count": 3,
   "metadata": {},
   "outputs": [
    {
     "name": "stdout",
     "output_type": "stream",
     "text": [
      "55\n"
     ]
    }
   ],
   "source": [
    "n = int(input())\n",
    "arr=[0]\n",
    "sum = 1\n",
    "for i in range(n):\n",
    "    arr.append(sum)\n",
    "    sum += arr[i]\n",
    "print(arr[n])"
   ]
  },
  {
   "cell_type": "markdown",
   "metadata": {},
   "source": [
    "# DFS(깊이우선탐색) vs BFS(너비우선탐색)\n",
    "## DFS(Depth-First Search, 깊이우선탐색)\n",
    "\n",
    "<img src=\"img/dfs2.gif\" width=\"70%\">\n",
    "\n",
    "- DFS는 그래프의 깊은 부분을 우선적으로 탐색하는 알고리즘이다. \n",
    "- 이 방법은 가능한 깊게 그래프를 탐색하고, 더 이상 탐색할 수 없는 경우 이전 분기점으로 돌아가 다른 경로를 탐색한다.\n",
    "- 스택(Stack)을 사용하거나 재귀함수를 통해 구현할 수 있다."
   ]
  },
  {
   "cell_type": "markdown",
   "metadata": {},
   "source": [
    "### 💡 스택(Stack - LIFO:Last In, First Out)\n",
    "- 먼저 들어 온 데이터가 나중에 나가는 후입선출의 자료구조이다.\n",
    "- 입구와 출구가 동일한 형태이다.\n",
    "- python의 경우 리스트를 사용해서 구현한다.\n",
    " \n",
    "   <img src=\"img/stack1.gif\" width=\"70%\">"
   ]
  },
  {
   "cell_type": "markdown",
   "metadata": {},
   "source": [
    "### 💡 재귀함수(Recursive Function)\n",
    "- 재귀 함수란 자기 자신을 다시 호출하는 것을 말한다.\n",
    "- 재귀 함수 적용시 재귀 호출을 종료시키는 조건을 반드시 정의해야 한다.\n",
    "- python의 경우 어느 정도 출력하다가 최대 재귀 깊이(maximum recursion)가 되면 Error와 함께 자동 종료 된다.\n",
    "- 재귀 함수의 실행 과정은 스택의 동작 원리와 유사하다."
   ]
  },
  {
   "cell_type": "code",
   "execution_count": 1,
   "metadata": {},
   "outputs": [
    {
     "name": "stdout",
     "output_type": "stream",
     "text": [
      "1 번째 재귀함수에서 2 번째 재귀함수를 호출합니다.\n",
      "2 번째 재귀함수에서 3 번째 재귀함수를 호출합니다.\n",
      "3 번째 재귀함수에서 4 번째 재귀함수를 호출합니다.\n",
      "4 번째 재귀함수에서 5 번째 재귀함수를 호출합니다.\n",
      "4 번째 재귀함수를 종료합니다.\n",
      "3 번째 재귀함수를 종료합니다.\n",
      "2 번째 재귀함수를 종료합니다.\n",
      "1 번째 재귀함수를 종료합니다.\n"
     ]
    }
   ],
   "source": [
    "# 재귀 함수 예시\n",
    "def recursive_function(i):\n",
    "        # 5번째 호출을 했을 때 종료되도록 종료 조건 명시\n",
    "        if i == 5:\n",
    "            return \n",
    "        print(i, '번째 재귀함수에서', i+1,'번째 재귀함수를 호출합니다.')\n",
    "        recursive_function(i+1)\n",
    "        print(i,'번째 재귀함수를 종료합니다.')\n",
    "\n",
    "recursive_function(1)"
   ]
  },
  {
   "cell_type": "markdown",
   "metadata": {},
   "source": [
    "### 재귀 함수를 활용한 DFS 예시\n",
    "<img src=\"img/ex1.png\" width=\"60%\">"
   ]
  },
  {
   "cell_type": "code",
   "execution_count": 2,
   "metadata": {},
   "outputs": [
    {
     "name": "stdout",
     "output_type": "stream",
     "text": [
      "1 7 4 9 5 8 2 10 3 6 "
     ]
    }
   ],
   "source": [
    "def dfs(graph, v, visited):\n",
    "    # 현재 노드를 방문 처리\n",
    "    visited[v] = True\n",
    "    print(v, end=' ')\n",
    "    # 현재 노드와 연결된 다른 노드를 재귀적으로 방문\n",
    "    for i in graph[v]:\n",
    "        if not visited[i]:\n",
    "            dfs(graph, i, visited)\n",
    "\n",
    "# 각 노드가 연결된 정보를 표현 (2차원 리스트)\n",
    "graph = [\n",
    "    [], # 보통 그래프가 1번부터 시작하는 경우가 많아서 0번째는 비워둠\n",
    "    [7, 5, 3], # 1번 노드와 인접한 노드들\n",
    "    [],        # 2번 노드와 인접한 노드들\n",
    "    [6],\n",
    "    [9], \n",
    "    [8, 10], \n",
    "    [], \n",
    "    [4], \n",
    "    [2],\n",
    "    [], \n",
    "    []\n",
    "]\n",
    "# 각 노드가 방문된 정보를 표현 (1차원 리스트)\n",
    "visited = [False] * 11\n",
    "\n",
    "dfs(graph, 1, visited)"
   ]
  },
  {
   "cell_type": "markdown",
   "metadata": {},
   "source": [
    "## BFS(Breadth-First Search, 너비우선탐색)\n",
    "\n",
    "<img src=\"img/bfs1.gif\" width=\"70%\">\n",
    "\n",
    "- BFS는 시작 노드부터 가까운 노드를 우선적으로 탐색하는 알고리즘이다.\n",
    "- 모든 노드와 거리가 동일할 때 최단 경로를 찾는데 사용된다.\n",
    "- 큐(Queue)를 사용하여 구현한다."
   ]
  },
  {
   "cell_type": "markdown",
   "metadata": {},
   "source": [
    "### 💡 큐(Queue - FIFO : First In, First Out)\n",
    "- 큐는 데이터를 처음에 넣은 것부터 차례대로 꺼내는 선입선출의 자료구조이다.\n",
    "- 즉, 처음 삽입된 요소가 가장 먼저 나오는 구조이다.\n",
    "- python의 경우 리스트를 사용해도 되고 collections 모듈의 `deque`를 사용해도 되지만 `popleft`가 있어 시간 복잡도가 더 낮은 `deque`를 더 많이 사용한다.\n",
    "\n",
    "<img src=\"img/queue1.gif\" width=\"70%\">"
   ]
  },
  {
   "cell_type": "markdown",
   "metadata": {},
   "source": [
    "### 큐를 활용한 BFS예시\n",
    "\n",
    "<img src=\"img/ex1.png\" width=\"70%\">"
   ]
  },
  {
   "cell_type": "code",
   "execution_count": 3,
   "metadata": {},
   "outputs": [
    {
     "name": "stdout",
     "output_type": "stream",
     "text": [
      "1 7 5 3 4 8 10 6 9 2 "
     ]
    }
   ],
   "source": [
    "from collections import deque\n",
    "\n",
    "# BFS 메서드 정의\n",
    "def bfs(graph, start, visited):\n",
    "    # 큐(Queue) 구현을 위해 deque 라이브러리 사용\n",
    "    queue = deque([start])\n",
    "    # 현재 노드를 방문 처리\n",
    "    visited[start] = True\n",
    "    # 큐가 빌 때까지 반복\n",
    "    while queue:\n",
    "        # 큐에서 하나의 원소를 뽑아 출력하기\n",
    "        v = queue.popleft()\n",
    "        print(v, end=' ')\n",
    "        # 아직 방문하지 않은 인접한 원소들을 큐에 삽입\n",
    "        for i in graph[v]:\n",
    "            if not visited[i]:\n",
    "                queue.append(i)\n",
    "                visited[i] = True\n",
    "# 각 노드가 연결된 정보를 표현 (2차원 리스트)\n",
    "graph = [\n",
    "    [], # 보통 그래프가 1번부터 시작하는 경우가 많아서 0번째는 비워둠\n",
    "    [7, 5, 3], # 1번 노드와 인접한 노드들\n",
    "    [],        # 2번 노드와 인접한 노드들\n",
    "    [6],\n",
    "    [9], \n",
    "    [8, 10], \n",
    "    [], \n",
    "    [4], \n",
    "    [2],\n",
    "    [], \n",
    "    []\n",
    "]\n",
    "# 각 노드가 방문된 정보를 표현 (1차원 리스트)\n",
    "visited = [False] * 11\n",
    "\n",
    "bfs(graph, 1, visited)"
   ]
  },
  {
   "cell_type": "markdown",
   "metadata": {},
   "source": [
    "## 과제\n",
    "- [백준 1260](https://www.acmicpc.net/problem/1260)"
   ]
  },
  {
   "cell_type": "code",
   "execution_count": 2,
   "metadata": {},
   "outputs": [
    {
     "ename": "KeyboardInterrupt",
     "evalue": "",
     "output_type": "error",
     "traceback": [
      "\u001b[0;31m---------------------------------------------------------------------------\u001b[0m",
      "\u001b[0;31mKeyboardInterrupt\u001b[0m                         Traceback (most recent call last)",
      "Cell \u001b[0;32mIn[2], line 33\u001b[0m\n\u001b[1;32m     31\u001b[0m     arr[j]\u001b[38;5;241m.\u001b[39mappend(ty)\n\u001b[1;32m     32\u001b[0m \u001b[38;5;28;01mwhile\u001b[39;00m cnt \u001b[38;5;241m<\u001b[39m k\u001b[38;5;241m+\u001b[39m\u001b[38;5;241m1\u001b[39m:\n\u001b[0;32m---> 33\u001b[0m     \u001b[43mdfs\u001b[49m\u001b[43m(\u001b[49m\u001b[43marr\u001b[49m\u001b[43m[\u001b[49m\u001b[43mcnt\u001b[49m\u001b[43m]\u001b[49m\u001b[43m[\u001b[49m\u001b[38;5;241;43m0\u001b[39;49m\u001b[43m]\u001b[49m\u001b[43m,\u001b[49m\u001b[43m \u001b[49m\u001b[43marr\u001b[49m\u001b[43m[\u001b[49m\u001b[43mcnt\u001b[49m\u001b[43m]\u001b[49m\u001b[43m[\u001b[49m\u001b[38;5;241;43m1\u001b[39;49m\u001b[43m]\u001b[49m\u001b[43m,\u001b[49m\u001b[43mvisited\u001b[49m\u001b[43m,\u001b[49m\u001b[43m \u001b[49m\u001b[43mcnt\u001b[49m\u001b[43m,\u001b[49m\u001b[43m \u001b[49m\u001b[43mgraph\u001b[49m\u001b[43m)\u001b[49m\n\u001b[1;32m     34\u001b[0m     result \u001b[38;5;241m+\u001b[39m\u001b[38;5;241m=\u001b[39m \u001b[38;5;241m1\u001b[39m\n\u001b[1;32m     35\u001b[0m \u001b[38;5;28mprint\u001b[39m(result)\n",
      "Cell \u001b[0;32mIn[2], line 7\u001b[0m, in \u001b[0;36mdfs\u001b[0;34m(x, y, visited, cnt, graph)\u001b[0m\n\u001b[1;32m      3\u001b[0m dy \u001b[38;5;241m=\u001b[39m [\u001b[38;5;241m1\u001b[39m, \u001b[38;5;241m-\u001b[39m\u001b[38;5;241m1\u001b[39m, \u001b[38;5;241m0\u001b[39m, \u001b[38;5;241m0\u001b[39m]\n\u001b[1;32m      5\u001b[0m \u001b[38;5;66;03m# visited\u001b[39;00m\n\u001b[1;32m      6\u001b[0m \u001b[38;5;66;03m# 만약 (0,0) = 1\u001b[39;00m\n\u001b[0;32m----> 7\u001b[0m \u001b[38;5;28;01mdef\u001b[39;00m \u001b[38;5;21mdfs\u001b[39m(x, y, visited, cnt, graph):\n\u001b[1;32m      8\u001b[0m     visited[x][y] \u001b[38;5;241m=\u001b[39m \u001b[38;5;28;01mTrue\u001b[39;00m\n\u001b[1;32m      9\u001b[0m     cnt \u001b[38;5;241m+\u001b[39m\u001b[38;5;241m=\u001b[39m \u001b[38;5;241m1\u001b[39m\n",
      "\u001b[0;31mKeyboardInterrupt\u001b[0m: "
     ]
    }
   ],
   "source": [
    "# 상하좌우 이동 - 동, 서, 남, 북\n",
    "dx = [0, 0, 1, -1]\n",
    "dy = [1, -1, 0, 0]\n",
    "\n",
    "# visited\n",
    "# 만약 (0,0) = 1\n",
    "def dfs(x, y, visited, cnt, graph):\n",
    "    visited[x][y] = True\n",
    "    cnt += 1\n",
    "    for i in range(4):\n",
    "        nx = x + dx[i]\n",
    "        ny = y + dy[i]\n",
    "        if nx<0 or ny <0 or nx>=n or ny>=m:\n",
    "            continue\n",
    "        if graph[nx][ny] == 1 and not visited[nx][ny]:\n",
    "            dfs(nx, ny, visited, cnt, graph)\n",
    "        else:\n",
    "            continue\n",
    "t = int(input()) # 테스트 케이스\n",
    "for i in range(t):\n",
    "    result = 0\n",
    "    n, m, k = map(int, input().split())\n",
    "    graph = [[0] * m for _ in range(n)]\n",
    "    visited = [[False] * m for _ in range(n)]\n",
    "    cnt = 0\n",
    "    arr = [[] for _ in range(k)]\n",
    "    for j in range(k):\n",
    "        tx, ty = map(int, input().split())\n",
    "        graph[tx][ty] = 1\n",
    "        arr[j].append(tx)\n",
    "        arr[j].append(ty)\n",
    "    while cnt < k+1:\n",
    "        dfs(arr[cnt][0], arr[cnt][1],visited, cnt, graph)\n",
    "        result += 1\n",
    "    print(result)\n"
   ]
  },
  {
   "cell_type": "code",
   "execution_count": 3,
   "metadata": {},
   "outputs": [
    {
     "name": "stdout",
     "output_type": "stream",
     "text": [
      "5\n",
      "1\n"
     ]
    }
   ],
   "source": [
    "# 상하좌우 이동을 위한 변수\n",
    "dx = [0, 0, 1, -1]\n",
    "dy = [1, -1, 0, 0]\n",
    "\n",
    "# DFS 함수 정의\n",
    "def dfs(x, y):\n",
    "    visited[x][y] = True\n",
    "    for i in range(4):\n",
    "        nx = x + dx[i]\n",
    "        ny = y + dy[i]\n",
    "        if 0<=nx<n and 0<=ny<m and not visited[nx][ny] and graph[nx][ny] == 1:\n",
    "            dfs(nx, ny)\n",
    "\n",
    "t = int(input()) # 테스트 케이스 수\n",
    "for _ in range(t):\n",
    "    m, n, k = map(int, input().split())  # m은 가로 길이, n은 세로 길이, k는 배추의 위치 수\n",
    "    graph = [[0] * m for _ in range(n)]\n",
    "    visited = [[False] * m for _ in range(n)]\n",
    "    for _ in range(k):\n",
    "        x, y = map(int, input().split())\n",
    "        graph[y][x] = 1  # 입력된 배추 위치에 1을 표시\n",
    "\n",
    "    result = 0\n",
    "    for i in range(n):\n",
    "        for j in range(m):\n",
    "            if graph[i][j] == 1 and not visited[i][j]:  # 배추가 있고 아직 방문하지 않았다면\n",
    "                dfs(i, j)\n",
    "                result += 1  # 지렁이 한 마리 필요\n",
    "    print(result)\n"
   ]
  },
  {
   "cell_type": "code",
   "execution_count": null,
   "metadata": {},
   "outputs": [],
   "source": []
  }
 ],
 "metadata": {
  "kernelspec": {
   "display_name": "py310",
   "language": "python",
   "name": "python3"
  },
  "language_info": {
   "codemirror_mode": {
    "name": "ipython",
    "version": 3
   },
   "file_extension": ".py",
   "mimetype": "text/x-python",
   "name": "python",
   "nbconvert_exporter": "python",
   "pygments_lexer": "ipython3",
   "version": "3.10.11"
  }
 },
 "nbformat": 4,
 "nbformat_minor": 2
}
