{
 "cells": [
  {
   "cell_type": "markdown",
   "metadata": {},
   "source": [
    "# 자료형"
   ]
  },
  {
   "cell_type": "markdown",
   "metadata": {},
   "source": [
    "## 정수형\n",
    "- 정수형(Integer)은 정수를 다루는 자료형\n",
    "    - 양의 정수, 음의 정수, 0"
   ]
  },
  {
   "cell_type": "code",
   "execution_count": 1,
   "metadata": {},
   "outputs": [
    {
     "name": "stdout",
     "output_type": "stream",
     "text": [
      "1000\n",
      "-7\n",
      "0\n"
     ]
    }
   ],
   "source": [
    "# 양의 정수\n",
    "a = 1000\n",
    "print(a)\n",
    "\n",
    "# 음의 정수\n",
    "a = -7\n",
    "print(a)\n",
    "\n",
    "# 0\n",
    "a = 0\n",
    "print(a)"
   ]
  },
  {
   "cell_type": "markdown",
   "metadata": {},
   "source": [
    "## 실수형\n",
    "- 실수형(Real Number)은 소수점 아래의 데이터를 포함하는 수 자료형이다.\n",
    "    - 파이썬에서는 변수에 소수점을 붙인 수를 대입하면 실수형 변수로 처리된다.\n",
    "    - 소수부가 0이거나, 정수부가 0인 소수는 0을 생략하고 작성할 수 있다."
   ]
  },
  {
   "cell_type": "code",
   "execution_count": 2,
   "metadata": {},
   "outputs": [
    {
     "name": "stdout",
     "output_type": "stream",
     "text": [
      "157.93\n",
      "-1837.2\n",
      "5.0\n",
      "-0.7\n"
     ]
    }
   ],
   "source": [
    "# 양의 실수\n",
    "a = 157.93\n",
    "print(a)\n",
    "\n",
    "# 음의 실수\n",
    "a = -1837.2\n",
    "print(a)\n",
    "\n",
    "# 소수부가 0일 때 0을 생략\n",
    "a = 5.\n",
    "print(a)\n",
    "\n",
    "# 정수부가 0일 때 0을 생략\n",
    "a = -.7\n",
    "print(a)"
   ]
  },
  {
   "cell_type": "markdown",
   "metadata": {},
   "source": [
    "### 실수형 더 알아보기\n",
    "- 오늘날 가장 널리 쓰이는 `IEEE754` 표준에서는 실수형을 저장하기 위해 4바이트, 혹은 8바이트의 고정된 크기의 메모리를 할당하므로, <br> **컴퓨터 시스템은 실수 정보를 표현하는 정확도에 한계를 가진다.**\n",
    "- 예를 들어 10진수 체계에서는 0.3과 0.6을 더한 값이 0.9로 정확히 떨어진다.\n",
    "    - 하지만 2진수에서는 0.9를 정확히 표현할 수 있는 방법이 없다.\n",
    "    - 컴퓨터는 최대한 0.9와 가깝게 표현하지만, 미세한 오차가 발생하게 된다."
   ]
  },
  {
   "cell_type": "code",
   "execution_count": 4,
   "metadata": {},
   "outputs": [
    {
     "name": "stdout",
     "output_type": "stream",
     "text": [
      "0.8999999999999999\n",
      "False\n"
     ]
    }
   ],
   "source": [
    "a = 0.3 + 0.6\n",
    "print(a)\n",
    "\n",
    "if a == 0.9:\n",
    "    print(True)\n",
    "else:\n",
    "    print(False)"
   ]
  },
  {
   "cell_type": "markdown",
   "metadata": {},
   "source": [
    "- 개발 과정에서 실수 값을 제대로 비교하지 못해서 원하는 결과를 얻지 못할 수도 있다.\n",
    "- 이러 때는 `round()` 함수를 이용할 수 있으며, 이러한 방법이 권장된다.\n",
    "- 예를 들어 123.456을 소수 셋째 자리에서 반올림하려면 `round(123.456, 2)`라고 작성한다. ⇒ 123.46 출력"
   ]
  },
  {
   "cell_type": "code",
   "execution_count": 5,
   "metadata": {},
   "outputs": [
    {
     "name": "stdout",
     "output_type": "stream",
     "text": [
      "0.8999999999999999\n",
      "True\n"
     ]
    }
   ],
   "source": [
    "a = 0.3 + 0.6\n",
    "print(a)\n",
    "\n",
    "if round(a, 4) == 0.9:\n",
    "    print(True)\n",
    "else:\n",
    "    print(False)"
   ]
  },
  {
   "cell_type": "markdown",
   "metadata": {},
   "source": [
    "## 지수 표현 방식\n",
    "- 파이썬에서는 `e`나 `E`를 이용한 지수 표현 방식을 이용할 수 있다.\n",
    "    - `e`나 `E` 다음에 오는 수는 10의 지수부를 의미한다.\n",
    "    - 예를 들어 `1e9`라고 입력하게 되면, 10의 9제곱(1,000,000,000)이 된다.\n",
    "- 지수 표현 방식은 임의의 큰 수를 표현하기 위해 자주 사용된다.\n",
    "- 최단 경로 알고리즘에서는 도달할 수 없는 노드에 대하여 최단 거리를 **무한(INF)** 로 설정하곤 한다.\n",
    "- 이때 가능한 최댓값이 10억 미만이라면 무한(INF)의 값으로 `1e9`를 이용할 수 있다."
   ]
  },
  {
   "cell_type": "code",
   "execution_count": 3,
   "metadata": {},
   "outputs": [
    {
     "name": "stdout",
     "output_type": "stream",
     "text": [
      "1000000000.0\n",
      "752.5\n",
      "3.954\n"
     ]
    }
   ],
   "source": [
    "# 1,000,000,000의 지수 표현 방식\n",
    "a = 1e9\n",
    "print(a)\n",
    "\n",
    "#752.5\n",
    "a = 75.25e1\n",
    "print(a)\n",
    "\n",
    "#3.954\n",
    "a = 3954e-3\n",
    "print(a)"
   ]
  },
  {
   "cell_type": "markdown",
   "metadata": {},
   "source": [
    "## 수 자료형의 연산\n",
    "- 수 자료형에 대하여 사칙연산과 나머지 연산자가 많이 사용된다.\n",
    "- 단 나누기 연산자(`/`)를 주의해서 사용해야한다.\n",
    "    - 파이썬에서 나누기 연산자(`/`)는 나눠진 결과를 실수형으로 반환한다.\n",
    "- 다양한 로직을 설계할 때 나머지 연산자(`%`)를 이용해야 할 때가 많다.\n",
    "- 파이썬에서는 몫을 얻기 위해 몫 연산자(`//`)를 사용한다.\n",
    "- 이외에도 거듭 제곱 연산자(`**`)를 비롯해 다양한 연산자들이 존재한다."
   ]
  },
  {
   "cell_type": "code",
   "execution_count": 6,
   "metadata": {},
   "outputs": [
    {
     "name": "stdout",
     "output_type": "stream",
     "text": [
      "2.3333333333333335\n",
      "1\n",
      "2\n",
      "343\n",
      "2.6457513110645907\n"
     ]
    }
   ],
   "source": [
    "a = 7\n",
    "b = 3\n",
    "\n",
    "# 나누기\n",
    "print(a / b)\n",
    "\n",
    "# 나머지\n",
    "print(a % b)\n",
    "\n",
    "# 몫\n",
    "print(a // b)\n",
    "\n",
    "# 거듭 제곱\n",
    "print(a ** b)\n",
    "\n",
    "# 제곱근\n",
    "print(a ** 0.5)"
   ]
  },
  {
   "cell_type": "markdown",
   "metadata": {},
   "source": [
    "## 리스트 자료형\n",
    "- 여러 개의 데이터를 연속적으로 담아 처리하기 위해 사용하는 자료형이다.\n",
    "    - 사용자 입장에서 자바의 배열(Array)의 기능 및 연결 리스트(ArrayList)와 유사한 기능을 지원한다.\n",
    "    - 리스트 대신에 배열 혹은 테이블이라고 부르기도 한다.\n",
    "    <br>\n",
    "    \n",
    "        |7|1|5|3|2|6|7|5|\n",
    "        |--|--|--|--|--|--|--|--|\n",
    "\n",
    "- 리스트는 대괄호(`[]`) 안에 원소를 넣어 초기화하며, 쉼표(`,`)로 원소를 구분한다.\n",
    "- 비어 있는 리스트를 선언하고자 할 때는 list()혹은 간단히 `[]`를 이용할 수 있다.\n",
    "- 리스트의 원소에 접근할 때는 인덱스(Index) 값을 괄호에 넣는다.\n",
    "    - 인덱스는 0부터 시작한다."
   ]
  },
  {
   "cell_type": "code",
   "execution_count": 10,
   "metadata": {},
   "outputs": [
    {
     "name": "stdout",
     "output_type": "stream",
     "text": [
      "[1, 2, 3, 4, 5, 6, 7, 8, 9]\n",
      "4\n",
      "[0, 0, 0, 0, 0, 0, 0, 0, 0, 0]\n",
      "[7, 3, 2, 5, 9]\n",
      "[7, 3, 2, 5, 4]\n"
     ]
    }
   ],
   "source": [
    "# 직접 데이터를 넣어 초기화\n",
    "a = [1, 2, 3, 4, 5, 6, 7, 8, 9]\n",
    "print(a)\n",
    "\n",
    "# 네 번째 원소만 출력\n",
    "print(a[3])\n",
    "\n",
    "# 크기가 N이고, 모든 값이 0인 1차원 리스트 초기화\n",
    "n = 10\n",
    "a = [0] * n\n",
    "print(a)\n",
    "\n",
    "# 특정 인덱스 값 바꾸기\n",
    "a = [7, 3, 2, 5, 9]\n",
    "#    0  1  2  3  4\n",
    "print(a)\n",
    "\n",
    "a[4] = 4\n",
    "print(a)"
   ]
  },
  {
   "cell_type": "markdown",
   "metadata": {},
   "source": [
    "### 리스트의 인덱싱과 슬라이싱\n",
    "- 인덱스 값을 입력하여 리스트의 특정한 원소에 접근하는 것을 인덱싱(Indexing)이라고 한다.\n",
    "    - 파이썬의 인덱스 값은 양의 정수와 음의 정수를 모두 사용할 수 있다.\n",
    "    - 음의 정수를 넣으면 원소를 거꾸로 탐색하게 된다."
   ]
  },
  {
   "cell_type": "code",
   "execution_count": 11,
   "metadata": {},
   "outputs": [
    {
     "name": "stdout",
     "output_type": "stream",
     "text": [
      "8\n",
      "9\n",
      "7\n",
      "[1, 2, 3, 7, 5, 6, 7, 8, 9]\n"
     ]
    }
   ],
   "source": [
    "a = [1, 2, 3, 4, 5, 6, 7, 8, 9]\n",
    "\n",
    "# 여덟 번째 원소만 출력\n",
    "print(a[7])\n",
    "\n",
    "# 뒤에서 첫 번째 원소 출력\n",
    "print(a[-1])\n",
    "\n",
    "# 뒤에서 세 번째 원소 출력\n",
    "print(a[-3])\n",
    "\n",
    "# 네 번째 원소 값 변경\n",
    "a[3] = 7\n",
    "print(a)"
   ]
  },
  {
   "cell_type": "markdown",
   "metadata": {},
   "source": [
    "- 리스트에서 연속적인 위치를 갖는 원소들을 가져와야 할 때는 슬라이싱(Slicing)을 이용한다.\n",
    "    - 대괄호 안에 콜론(`:`)을 넣어서 **시작 인덱스** 와 **끝 인덱스** 를 설정할 수 있다.\n",
    "    - **끝 인덱스는 실제 인덱스보다 1을 더 크게 설정한다.**"
   ]
  },
  {
   "cell_type": "code",
   "execution_count": 12,
   "metadata": {},
   "outputs": [
    {
     "name": "stdout",
     "output_type": "stream",
     "text": [
      "4\n",
      "[2, 3, 4]\n"
     ]
    }
   ],
   "source": [
    "a = [1, 2, 3, 4, 5, 6, 7, 8, 9]\n",
    "\n",
    "# 네 번째 원소만 출력\n",
    "print(a[3])\n",
    "\n",
    "# 두 번째 원소부터 네 번째 원소까지\n",
    "print(a[1:4])"
   ]
  },
  {
   "cell_type": "markdown",
   "metadata": {},
   "source": [
    "### 리스트 컴프리헨션\n",
    "- 리스트를 초기화하는 방법 중 하나이다.\n",
    "    - **대괄호 안에 조건문과 반복문을 적용하여 리스트를 초기화 할 수 있다.**"
   ]
  },
  {
   "cell_type": "code",
   "execution_count": 14,
   "metadata": {},
   "outputs": [
    {
     "name": "stdout",
     "output_type": "stream",
     "text": [
      "[0, 1, 2, 3, 4, 5, 6, 7, 8, 9]\n",
      "[1, 3, 5, 7, 9, 11, 13, 15, 17, 19]\n",
      "[1, 4, 9, 16, 25, 36, 49, 64, 81]\n"
     ]
    }
   ],
   "source": [
    "# 0부터 9까지의 수를 포함하는 리스트\n",
    "array = [i for i in range(10)]\n",
    "print(array)\n",
    "\n",
    "# 0부터 19까지의 수 중에서 홀수만 포함하는 리스트\n",
    "array = [i for i in range(20) if i % 2 == 1]\n",
    "print(array)\n",
    "\n",
    "# 1부터 9까지의 수들의 제곱 값을 포함하는 리스트\n",
    "array = [i * i for i in range(1, 10)]\n",
    "print(array)"
   ]
  },
  {
   "cell_type": "markdown",
   "metadata": {},
   "source": [
    "- 리스트 컴프리헨션은 2차원 리스트를 초기화할 때 효과적으로 사용된다.\n",
    "- 특히 N * M 크기의 2차원 리스트를 한 번에 초기화 해야 할 때 매우 유용하다.\n",
    "    - 좋은 예시 : `array = [[0] * m for _ in range(n)]`\n",
    "    - 잘못된 예시 : `array = [[0] * m] * n`\n",
    "    ⇒ 전체 리스트 안에 포함된 각 리스트가 모두 같은 객체로 인식되어 같은 주소값을 가지게 된다. 즉, 하나의 값만 바뀌어도 다 바뀌게 된다."
   ]
  },
  {
   "cell_type": "code",
   "execution_count": 17,
   "metadata": {},
   "outputs": [
    {
     "name": "stdout",
     "output_type": "stream",
     "text": [
      "[[0, 0, 0], [0, 0, 0], [0, 0, 0], [0, 0, 0]]\n",
      "[[0, 0, 0], [0, 5, 0], [0, 0, 0], [0, 0, 0]]\n"
     ]
    }
   ],
   "source": [
    "# 좋은 예시\n",
    "# N X M 크기의 2차원 리스트 초기화\n",
    "n = 4\n",
    "m = 3\n",
    "array = [[0] * m for _ in range(n)]\n",
    "print(array)\n",
    "\n",
    "array[1][1] = 5\n",
    "print(array)"
   ]
  },
  {
   "cell_type": "code",
   "execution_count": 15,
   "metadata": {},
   "outputs": [
    {
     "name": "stdout",
     "output_type": "stream",
     "text": [
      "[[0, 0, 0], [0, 0, 0], [0, 0, 0], [0, 0, 0]]\n",
      "[[0, 5, 0], [0, 5, 0], [0, 5, 0], [0, 5, 0]]\n"
     ]
    }
   ],
   "source": [
    "# 잘못된 예시\n",
    "# N X M 크기의 2차원 리스트 초기화 (잘못된 방법)\n",
    "n = 4\n",
    "m = 3\n",
    "array = [[0] * m] * n\n",
    "print(array)\n",
    "\n",
    "array[1][1] = 5\n",
    "print(array)"
   ]
  },
  {
   "cell_type": "markdown",
   "metadata": {},
   "source": [
    "### 리스트 관련 기타 메서드\n",
    "|함수명|사용법|설명|시간 복잡도|\n",
    "|--|--|--|--|\n",
    "|append()|번수명.append()|리스트에 원소를 하나 삽입할 때 사용. 가장 뒤에 삽입된다.|O(1)|\n",
    "|sort()|변수명.sort()<br>변수명.sort(reverse=True)|기본 정렬 기능으로 오름차순으로 정렬<br>내림차순으로 정렬|O(NlogN)|\n",
    "|reverse()|변수명.reverse()|리스트의 원소의 순서를 모두 뒤집어 놓는다.|O(N)|\n",
    "|insert()|insert(삽입할 위치 인덱스, 삽입할 값)|특정한 인덱스 위치에 원소를 삽입할 때 사용|O(N)|\n",
    "|count()|변수명.count(특정값)|리스트에서 특정한 값을 가지는 데이터의 개수를 셀 때 사용|O(N)|\n",
    "|remove()|변수명.remove(특정값)|특정한 값을 갖는 원소를 제거하는데, 값을 가진 원소가 여러 개면 하나만 제거한다.|O(N)|"
   ]
  },
  {
   "cell_type": "code",
   "execution_count": 21,
   "metadata": {},
   "outputs": [
    {
     "name": "stdout",
     "output_type": "stream",
     "text": [
      "기본 리스트 :  [1, 4, 3]\n",
      "삽입 :  [1, 4, 3, 2]\n",
      "오름차순 정렬 :  [1, 2, 3, 4]\n",
      "내림차순 정렬 :  [4, 3, 2, 1]\n",
      "원소 뒤집기 :  [1, 2, 3, 4]\n",
      "인덱스 2에 3 추가 :  [1, 2, 3, 3, 4]\n",
      "값이 3인 데이터 개수 :  2\n"
     ]
    }
   ],
   "source": [
    "a = [1, 4, 3]\n",
    "print(\"기본 리스트 : \", a)\n",
    "\n",
    "# 리스트에 원소 삽입\n",
    "a.append(2)\n",
    "print(\"삽입 : \", a)\n",
    "\n",
    "# 오름차순 정렬\n",
    "a.sort()\n",
    "print(\"오름차순 정렬 : \", a)\n",
    "\n",
    "# 내림차순 정렬\n",
    "a.sort(reverse = True)\n",
    "print(\"내림차순 정렬 : \", a)\n",
    "\n",
    "# 리스트 원소 뒤집기\n",
    "a.reverse()\n",
    "print(\"원소 뒤집기 : \", a)\n",
    "\n",
    "# 특정 인덱스에 데이터 추가\n",
    "a.insert(2, 3)\n",
    "print(\"인덱스 2에 3 추가 : \", a)\n",
    "             \n",
    "# 특정 값인 데이터 개수 세기\n",
    "print(\"값이 3인 데이터 개수 : \", a.count(3))"
   ]
  },
  {
   "cell_type": "code",
   "execution_count": 22,
   "metadata": {},
   "outputs": [
    {
     "name": "stdout",
     "output_type": "stream",
     "text": [
      "원본 리스트 :  [1, 2, 3, 4, 5, 5, 5]\n",
      "값이 1인 데이터 삭제 :  [2, 3, 4, 5, 5, 5]\n",
      "[2, 4]\n"
     ]
    }
   ],
   "source": [
    "a = [1, 2, 3, 4, 5, 5, 5]\n",
    "print(\"원본 리스트 : \", a)\n",
    "# 특정 값 데이터 삭제\n",
    "a.remove(1)\n",
    "print(\"값이 1인 데이터 삭제 : \", a)\n",
    "\n",
    "# 리스트에서 특정 값을 가지는 원소 모두 제거하기\n",
    "remove_set = {3, 5} # 집합 자료형\n",
    "\n",
    "#remove_set에 포함되지 않은 값만을 저장\n",
    "result = [i for i in a if i not in remove_set]\n",
    "print(result)"
   ]
  },
  {
   "cell_type": "markdown",
   "metadata": {},
   "source": [
    "## 언더바(`_`) 사용 예시\n",
    "- 파이썬에서는 반복을 수행하되 반복을 위한 변수의 값을 무시하고자 할 때 언더바(`_`)를 자주 사용한다."
   ]
  },
  {
   "cell_type": "code",
   "execution_count": 19,
   "metadata": {},
   "outputs": [
    {
     "name": "stdout",
     "output_type": "stream",
     "text": [
      "45\n",
      "Hello World\n",
      "Hello World\n",
      "Hello World\n",
      "Hello World\n",
      "Hello World\n"
     ]
    }
   ],
   "source": [
    "# 1부터 9까지의 자연수를 더하기\n",
    "summary = 0\n",
    "for i in range(1, 10):\n",
    "    summary += i\n",
    "print(summary)\n",
    "\n",
    "# \"Hello World\"를 5번 출력하기\n",
    "for _ in range(5):\n",
    "    print(\"Hello World\")"
   ]
  },
  {
   "cell_type": "markdown",
   "metadata": {},
   "source": [
    "## 문자열 자료형\n",
    "- 문자열 변수를 초기화할 때는 큰따옴표(`\"`)나 작은 따옴표(`'`)를 이용한다.\n",
    "- 문자열 안에 큰따옴표나 작은 따옴표가 포함되어야 하는 경우가 있다.\n",
    "    - 전체 문자열을 큰따옴표로 구성하는 경우, 내부적으로 작은 따옴표를 포함할 수 있다.\n",
    "    - 전체 문자열을 작은따옴표로 구성하는 경우, 내부적으로 큰따옴표를 포함할 수 있다.\n",
    "    - 혹은 백슬래시(`\\`)를 사용하면, 큰따옴표나 작은 따옴표를 원하는 만큼 포함시킬 수 있다."
   ]
  },
  {
   "cell_type": "code",
   "execution_count": 23,
   "metadata": {},
   "outputs": [
    {
     "name": "stdout",
     "output_type": "stream",
     "text": [
      "Hello World\n",
      "Don't you know \"Python\"?\n"
     ]
    }
   ],
   "source": [
    "data = 'Hello World'\n",
    "print(data)\n",
    "\n",
    "data = \"Don't you know \\\"Python\\\"?\"\n",
    "print(data)"
   ]
  },
  {
   "cell_type": "markdown",
   "metadata": {},
   "source": [
    "### 문자열 연산\n",
    "- 문자열 변수에 **덧셈(`+`)** 을 이용하면 **문자열이 더해져서 연결(Concatenate)** 된다.\n",
    "- 문자열 변수를 특정한 양의 정수와 곱하는 경우, 문자열이 그 값만큼 여러 번 더해진다.\n",
    "- 문자열에 대해서도 마찬가지로 인덱싱과 슬라이싱을 이용할 수 있다.\n",
    "    - 다만 문자열은 특정 인덱스의 값을 변경할 수는 없다.(Immutable)"
   ]
  },
  {
   "cell_type": "code",
   "execution_count": 24,
   "metadata": {},
   "outputs": [
    {
     "name": "stdout",
     "output_type": "stream",
     "text": [
      "Hello World\n",
      "StringStringString\n",
      "CD\n"
     ]
    }
   ],
   "source": [
    "a = \"Hello\"\n",
    "b = \"World\"\n",
    "print(a + \" \" + b)\n",
    "# a[2] = \"A\" -- Error. 특정 인덱스만 변경 불가능\n",
    "\n",
    "a = \"String\"\n",
    "print(a * 3)\n",
    "\n",
    "a = \"ABCDEF\"\n",
    "print(a[2:4])"
   ]
  },
  {
   "cell_type": "markdown",
   "metadata": {},
   "source": [
    "## 튜플 자료형\n",
    "- 튜플 자료형은 리스트와 유사하지만 문법적 차이가 있다.\n",
    "    - 튜플은 한 번 선언된 값을 변경할 수 없다.\n",
    "    - 리스트는 대괄호(`[]`)를 이용하지만, 튜플은 소괄호(`()`)를 이용한다.\n",
    "- 튜플은 리스트에 비해 상대적으로 공간 효율적이다.(리스트를 사용할 때보다 더 적은 양의 메모리를 사용한다.)"
   ]
  },
  {
   "cell_type": "code",
   "execution_count": 25,
   "metadata": {},
   "outputs": [
    {
     "name": "stdout",
     "output_type": "stream",
     "text": [
      "4\n",
      "(2, 3, 4)\n"
     ]
    }
   ],
   "source": [
    "a = (1, 2, 3, 4, 5, 6, 7, 8, 9)\n",
    "\n",
    "# 네 번째 원소만 출력\n",
    "print(a[3])\n",
    "\n",
    "# 두 번째 원소부터 네 번째 원소까지\n",
    "print(a[1:4])\n",
    "\n",
    "# a[2] = 7  -- Error. 변경 불가능"
   ]
  },
  {
   "cell_type": "markdown",
   "metadata": {},
   "source": [
    "### 튜플을 사용하면 좋은 경우\n",
    "- **서로 다른 성질** 의 데이터를 묶어서 관리해야 할 때\n",
    "    - 최단 경로 알고리즘에서는(비용, 노드 번호)의 형태로 튜플 자료형을 자주 사용한다.\n",
    "- 데이터의 나열을 **해싱(Hashing)의 키 값** 으로 사용해야 할 때\n",
    "    - 튜플은 변경이 불가능하므로 리스트와 다르게 키 값으로 사용될 수 있다.\n",
    "- 리스트보다 **메모리를 효율적으로 사용** 해야 할 때"
   ]
  },
  {
   "cell_type": "markdown",
   "metadata": {},
   "source": [
    "## 사전 자료형\n",
    "- 사전 자료형은 **키(Key)와 값(Value)의 쌍을 데이터로 가지는 자료형** 이다.\n",
    "    - 앞서 다루었던 리스트나 튜플이 값을 순차적으로 저장하는 것과는 대비된다.\n",
    "- 사전 자료형은 키와 값의 쌍을 데이터로 가지며, 원하는 **'변경 불가능한(Immutable) 자료형'** 을 키로 사용할 수 있다.\n",
    "- 파이썬의 사전 자료형은 해시 테이블(Hash Table)을 이용하므로 <U>데이터의 조회 및 수정에 있어서 `O(1)`의 시간에 처리</U> 할 수 있다."
   ]
  },
  {
   "cell_type": "code",
   "execution_count": 26,
   "metadata": {},
   "outputs": [
    {
     "name": "stdout",
     "output_type": "stream",
     "text": [
      "{'사과': 'Apple', '바나나': 'Banana', '코코넛': 'Coconut'}\n",
      "사과를 키로 가지는 데이터가 존재한다.\n"
     ]
    }
   ],
   "source": [
    "data = dict() # 사전 자료형 초기화\n",
    "data['사과'] = 'Apple'\n",
    "data['바나나'] = 'Banana'\n",
    "data['코코넛'] = 'Coconut'\n",
    "\n",
    "print(data)\n",
    "\n",
    "if '사과' in data:\n",
    "    print('사과를 키로 가지는 데이터가 존재한다.')"
   ]
  },
  {
   "cell_type": "markdown",
   "metadata": {},
   "source": [
    "### 사전 자료형 관련 메서드\n",
    "- 사전 자료형에서는 키와 값을 별도로 뽑아내기 위한 메서드를 지원한다.\n",
    "    - `keys()` : 키 데이터만 뽑아서 리스트로 이용할 때 사용\n",
    "    - `values()` : 값 데이터만 뽑아서 리스트로 이용할 때 사용"
   ]
  },
  {
   "cell_type": "code",
   "execution_count": 28,
   "metadata": {},
   "outputs": [
    {
     "name": "stdout",
     "output_type": "stream",
     "text": [
      "{'사과': 'Apple', '바나나': 'Banana', '코코넛': 'Coconut'}\n",
      "dict_keys(['사과', '바나나', '코코넛'])\n",
      "dict_values(['Apple', 'Banana', 'Coconut'])\n",
      "Apple\n",
      "Banana\n",
      "Coconut\n",
      "{'홍길동': 28, '이순신': 88}\n"
     ]
    }
   ],
   "source": [
    "data = dict() # 사전 자료형 초기화\n",
    "data['사과'] = 'Apple'\n",
    "data['바나나'] = 'Banana'\n",
    "data['코코넛'] = 'Coconut'\n",
    "\n",
    "print(data)\n",
    "\n",
    "# 키 데이터만 담은 리스트\n",
    "key_list = data.keys()\n",
    "# 값 데이터만 담은 리스트\n",
    "value_list = data.values()\n",
    "print(key_list)\n",
    "print(value_list)\n",
    "\n",
    "# 각 키에 따른 값을 하나씩 출력\n",
    "for key in key_list:\n",
    "    print(data[key])\n",
    "\n",
    "b = {\n",
    "    '홍길동' : 28,\n",
    "    '이순신' : 88\n",
    "}\n",
    "print(b)"
   ]
  },
  {
   "cell_type": "markdown",
   "metadata": {},
   "source": [
    "## 집합 자료형\n",
    "- 집합 자료형의 특징\n",
    "    - 중복을 허용하지 않는다.\n",
    "    - 순서가 없다.\n",
    "- 집합은 **리스트 혹은 문자열을 이용해서 초기화** 할 수 있다.\n",
    "    - 이때 `set()` 함수를 이용한다.\n",
    "- 혹은 **중괄호(`{}`)** 안에 각 원소를 콤마(`,`)를 기준으로 구분하여 삽입함으로써 초기화 할 수 있다.\n",
    "- <U>데이터의 조회 및 수정에 있어서 `O(1)의 시간에 처리</U> 할 수 있다."
   ]
  },
  {
   "cell_type": "code",
   "execution_count": 29,
   "metadata": {},
   "outputs": [
    {
     "name": "stdout",
     "output_type": "stream",
     "text": [
      "{1, 2, 3, 4, 5}\n",
      "{1, 2, 3, 4, 5}\n"
     ]
    }
   ],
   "source": [
    "# 집합 자료형 초기화 방법 1\n",
    "data = set([1, 1, 2, 3, 4, 4, 5])\n",
    "print(data)\n",
    "\n",
    "# 집합 자료형 초기화 방법 2\n",
    "data = {1, 1 ,2, 3, 4, 4, 5}\n",
    "print(data)"
   ]
  },
  {
   "cell_type": "markdown",
   "metadata": {},
   "source": [
    "### 집한 자료형의 연산\n",
    "- 기본적인 집합 연산으로 합집합, 교집합, 차집합 연산 등이 있다.\n",
    "    - **합집합** : 집합 A에 속하거나 B에 속하는 원소로 이루어진 집합(A ⋃ B)\n",
    "    - **교집합** : 집합 A에도 속하고 B에도 속하는 원소로 이루어진 집합(A ⋂ B)\n",
    "    - **차집합** : 집합 A의 원소 중에서 B에 속하지 않는 원소들로 이루어진 집합(A - B)"
   ]
  },
  {
   "cell_type": "code",
   "execution_count": 30,
   "metadata": {},
   "outputs": [
    {
     "name": "stdout",
     "output_type": "stream",
     "text": [
      "{1, 2, 3, 4, 5, 6, 7}\n",
      "{3, 4, 5}\n",
      "{1, 2}\n"
     ]
    }
   ],
   "source": [
    "a = set([1, 2, 3, 4, 5])\n",
    "b = set([3, 4, 5, 6, 7])\n",
    "\n",
    "# 합집합\n",
    "print(a | b)\n",
    "\n",
    "# 교집합\n",
    "print(a & b)\n",
    "\n",
    "# 차집합\n",
    "print(a - b)"
   ]
  },
  {
   "cell_type": "code",
   "execution_count": 31,
   "metadata": {},
   "outputs": [
    {
     "name": "stdout",
     "output_type": "stream",
     "text": [
      "{1, 2, 3}\n",
      "{1, 2, 3, 4}\n",
      "{1, 2, 3, 4, 5, 6}\n",
      "{1, 2, 4, 5, 6}\n"
     ]
    }
   ],
   "source": [
    "data = set([1, 2, 3])\n",
    "print(data)\n",
    "\n",
    "# 새로운 원소 추가\n",
    "data.add(4)\n",
    "print(data)\n",
    "\n",
    "# 새로운 원소 여러 개 추가\n",
    "data.update([5, 6])\n",
    "print(data)\n",
    "\n",
    "# 특정한 값을 갖는 원소 삭제\n",
    "data.remove(3)\n",
    "print(data)"
   ]
  },
  {
   "cell_type": "markdown",
   "metadata": {},
   "source": [
    "## 사전 자료형과 집합 자료형의 특징\n",
    "- 리스트나 튜플은 순서가 있기 때문에 인덱싱을 통해 자료형의 값을 얻을 수 있다.\n",
    "- 사전 자료형과 집합 자료형은 순서가 없기 때문에 인덱싱으로 값을 얻을 수 없다.\n",
    "    - 사전의 키(Key) 혹은 집합의 원소(Element)를 이용해 `O(1)`의 시간 복잡도로 조회한다."
   ]
  },
  {
   "cell_type": "markdown",
   "metadata": {},
   "source": [
    "# 기본 입출력\n",
    "- 모든 프로그램은 적절한 (약속된) 입출력 양식을 가지고 있다.\n",
    "- 프로그램 동작의 첫 번째 단계는 데이터를 입력 받거나 생성하는 것이다."
   ]
  },
  {
   "cell_type": "markdown",
   "metadata": {},
   "source": [
    "## 자주 사용되는 표준 입력 방법\n",
    "- `input()` 함수는 <U>한 줄의 문자열을 입력 받는 함수</U>이다.\n",
    "- `map()` 함수는 <U>리스트의 모든 원소에 각각 특정한 함수를 적용할 때 사용</U>한다.\n",
    "- 예시1) 공백을 기준으로 구분된 데이터를 입력 받을 때\n",
    "    - `list(map(int, input().split()))`\n",
    "- 예시2) 공백을 기준으로 구분된 데이터의 개수가 많지 않을 경우\n",
    "    - `a, b, c = map(int, input().split())`"
   ]
  },
  {
   "cell_type": "code",
   "execution_count": 3,
   "metadata": {},
   "outputs": [
    {
     "name": "stdout",
     "output_type": "stream",
     "text": [
      "[99, 90, 75, 65, 34]\n"
     ]
    }
   ],
   "source": [
    "# 데이터의 개수 입력\n",
    "n = int(input())\n",
    "# 각 데이터를 공백을 기준으로 구분하여 입력\n",
    "data = list(map(int, input().split()))\n",
    "\n",
    "data.sort(reverse=True)\n",
    "print(data)"
   ]
  },
  {
   "cell_type": "code",
   "execution_count": 4,
   "metadata": {},
   "outputs": [
    {
     "name": "stdout",
     "output_type": "stream",
     "text": [
      "1 2 3\n"
     ]
    }
   ],
   "source": [
    "# 입력 데이터를 바로 변수에 담을 수 있음\n",
    "a, b, c = map(int, input().split())\n",
    "\n",
    "print(a, b, c)"
   ]
  },
  {
   "cell_type": "markdown",
   "metadata": {},
   "source": [
    "## 빠르게 입력 받기\n",
    "- 사용자로부터 **입력을 최대한 빠르게 받아야 하는 경우** \n",
    "- 파이썬의 경우 `sys`라이브러리에 정의되어 있는 `sys.stdin.readline()` 메서드를 이용한다.\n",
    "    - 단, 입력 후 엔터(Enter)가 줄 바꿈 기호로 입력되므로 `rstrip()` 메서드를 함께 사용한다."
   ]
  },
  {
   "cell_type": "code",
   "execution_count": 6,
   "metadata": {},
   "outputs": [],
   "source": [
    "import sys\n",
    "\n",
    "# 문자열 입력 받기\n",
    "data = sys.stdin.readline().rstrip()\n",
    "print(data)"
   ]
  },
  {
   "cell_type": "markdown",
   "metadata": {},
   "source": [
    "## 자주 사용되는 표준 출력 방법\n",
    "- 파이썬에서 기본 출력은 `print()` 함수를 이용한다.\n",
    "    - 각 변수를 콤마(`,`)를 이용하여 띄어쓰기로 구분하여 출력할 수 있다.\n",
    "- `print()`는 기본적으로 **출력 이후에 줄 바꿈을 수행** 한다.\n",
    "    - 줄 바꿈을 원치 않는 경우 `end` 속성을 이용하면 된다."
   ]
  },
  {
   "cell_type": "code",
   "execution_count": 7,
   "metadata": {},
   "outputs": [
    {
     "name": "stdout",
     "output_type": "stream",
     "text": [
      "1 2\n",
      "7 8 정답은 7입니다.\n"
     ]
    }
   ],
   "source": [
    "# 출력할 변수들\n",
    "a = 1\n",
    "b = 2\n",
    "print(a, b)\n",
    "print(7, end=\" \")\n",
    "print(8, end=\" \")\n",
    "\n",
    "# 출력할 변수\n",
    "answer = 7\n",
    "print(\"정답은 \" + str(answer) + \"입니다.\")\n",
    "# 문자 타입과 정수 타입은 + 연산이 불가능하므로 타입변환이 필요하다.\n"
   ]
  },
  {
   "cell_type": "markdown",
   "metadata": {},
   "source": [
    "### `f-string`\n",
    "- python 3.6부터 사용 가능하며, 문자열 앞에 접두사 `f`를 붙여 사용하낟.\n",
    "- 중괄호 안에 변수명을 기입하여 간단히 문자열과 정수를 함께 넣을 수 있다."
   ]
  },
  {
   "cell_type": "code",
   "execution_count": 8,
   "metadata": {},
   "outputs": [
    {
     "name": "stdout",
     "output_type": "stream",
     "text": [
      "정답은 7입니다.\n"
     ]
    }
   ],
   "source": [
    "answer = 7\n",
    "print(f\"정답은 {answer}입니다.\")"
   ]
  },
  {
   "cell_type": "markdown",
   "metadata": {},
   "source": [
    "# 조건문\n",
    "- 조건문은 **프로그램의 흐름을 제어하는 문법** 이다.\n",
    "- 조건문을 이용해 조건에 따라서 프로그램의 로직을 설정할 수 있다."
   ]
  },
  {
   "cell_type": "code",
   "execution_count": 9,
   "metadata": {},
   "outputs": [
    {
     "name": "stdout",
     "output_type": "stream",
     "text": [
      "x >= 10\n",
      "x >= 0\n"
     ]
    }
   ],
   "source": [
    "x = 15\n",
    "\n",
    "if x >= 10:\n",
    "    print(\"x >= 10\")\n",
    "if x >= 0:\n",
    "    print(\"x >= 0\")\n",
    "if x >= 30:\n",
    "    print(\"x >= 30\")"
   ]
  },
  {
   "cell_type": "markdown",
   "metadata": {},
   "source": [
    "## 들여쓰기\n",
    "- 파이썬에서는 **코드의 블록(Block)을 들여쓰기(Indent)로 지정** 한다.\n",
    "- 탭을 사용하는 쪽과 공백 문자(space)를 여러 번 사용하는 쪽으로 두 진영이 있다.\n",
    "    - 이에 대한 논쟁은 지금도 이어지고 있다.\n",
    "- 파이썬 스타일 가이드라인에서는 **4개의 공백 문자를 사용하는 것을 표준으로 설정** 하고 있다."
   ]
  },
  {
   "cell_type": "markdown",
   "metadata": {},
   "source": [
    "## 조건문의 기본 형태\n",
    "- 조건문의 기본적인 형태 `if ~ elif ~ else`이다.\n",
    "    - 조건문을 사용할 때 `elif` 혹은 `else` 부분은 경우에 따라서 사용하지 않아도 된다.\n",
    "    \n",
    "    ```python\n",
    "    if 조건문1:\n",
    "        조건문1이 True일 때 실행되는 코드\n",
    "    elif 조건문2:\n",
    "        조건문1에 해당하지 않고, 조건문2가 True 일 때 실행되는 코드\n",
    "    else:\n",
    "        위의 모든 조건문이 모두 True 값이 아닐 때 실행되는 코드\n",
    "    ```"
   ]
  },
  {
   "cell_type": "code",
   "execution_count": 10,
   "metadata": {},
   "outputs": [
    {
     "name": "stdout",
     "output_type": "stream",
     "text": [
      "-10 > a\n"
     ]
    }
   ],
   "source": [
    "a = -15\n",
    "\n",
    "if a >= 0:\n",
    "    print(\"a >= 0\")\n",
    "elif a >= -10:\n",
    "    print(\"0 > a >= -10\")\n",
    "else:\n",
    "    print(\"-10 > a\")"
   ]
  },
  {
   "cell_type": "markdown",
   "metadata": {},
   "source": [
    "## 논리 연산자\n",
    "- 논리 연산자는 논리 값(True/False) 사이의 연산을 수행할 때 사용한다.\n",
    "\n",
    "|논리 연산자|설명|\n",
    "|--|--|\n",
    "|`X and Y`| X와 Y가 모두 참(True)일 때 참(True)이다.|\n",
    "|`X or Y`|X와 Y 중 하나만 참(True)이어도 참(True)이다.|\n",
    "|`not X`|X가 거짓(False)일 때 참(True)이다.|"
   ]
  },
  {
   "cell_type": "code",
   "execution_count": 11,
   "metadata": {},
   "outputs": [
    {
     "name": "stdout",
     "output_type": "stream",
     "text": [
      "Yes\n"
     ]
    }
   ],
   "source": [
    "if True or False:\n",
    "    print(\"Yes\")\n",
    "if True and False:\n",
    "    print(\"No\")"
   ]
  },
  {
   "cell_type": "markdown",
   "metadata": {},
   "source": [
    "## 파이썬의 기타 연산자\n",
    "- 다수의 데이터를 담는 자료형을 위해 `in 연산자`와 `not in 연산자`가 제공된다.\n",
    "    - 리스트, 튜플, 문자열, 딕셔너리 모두에서 사용가능하다.\n",
    "\n",
    "| |설명|\n",
    "|--|--|\n",
    "|`x in 리스트`|리스트 안에 x가 들어가 있을 떄 참(True)이다.|\n",
    "|`x not in 문자열`|문자열 안에 x가 들어가 있지 않을 때 참(True)이다.|"
   ]
  },
  {
   "cell_type": "markdown",
   "metadata": {},
   "source": [
    "## 파이썬의 `pass` 키워드\n",
    "- **아무것도 처리하고 싶지 않을 때 `pass` 키워드를 사용** 한다.\n",
    "- 예시) 디버깅 과정에서 일단 조건문의 형태만 만들어 놓고 조건문을 처리하는 부분은 비워놓고 싶은 경우\n",
    "\n",
    "```python\n",
    "score = 85\n",
    "\n",
    "if score >= 80:\n",
    "    pass # 나중에 작성할 소스코드\n",
    "else:\n",
    "    print('성적이 80점 미만입니다.')\n",
    "\n",
    "print('프로그램을 종료합니다.')\n",
    "```"
   ]
  },
  {
   "cell_type": "code",
   "execution_count": 12,
   "metadata": {},
   "outputs": [],
   "source": [
    "a = 50\n",
    "\n",
    "if a >= 30:\n",
    "    pass  # pass가 없으면 에러남\n",
    "else:\n",
    "    print(\"a < 30\")"
   ]
  },
  {
   "cell_type": "markdown",
   "metadata": {},
   "source": [
    "## 조건문의 간소화\n",
    "- 조건문에서 실행될 소스코드가 한 줄인 경우, 굳이 줄 바꿈을 하지 않고도 간략하게 표현할 수 있다.\n",
    "```python\n",
    "score = 85\n",
    "\n",
    "if score >= 80: result = \"Success\"\n",
    "else: result = \"Fail\"\n",
    "```\n",
    "\n",
    "- 조건부 표현식(Conditional Expression)dms `if ~ else문`을 한 줄에 작서할 수 있도록 해준다.\n",
    "```python\n",
    "score = 85\n",
    "result = \"Success\" if score >= 80 else \"Fail\"\n",
    "print(result)\n",
    "```"
   ]
  },
  {
   "cell_type": "markdown",
   "metadata": {},
   "source": [
    "## 파이썬 조건문 내에서의 부등식\n",
    "- 다른 프로그래밍 언어와 다르게 파이썬은 조건문 안에서 수학의 부등식을 그대로 사용할 수 있다.\n",
    "- 예를 들어 `x > 0 and x < 20`과 `0 < x < 20`은 같은 결과를 반환한다."
   ]
  },
  {
   "cell_type": "markdown",
   "metadata": {},
   "source": [
    "# 반복문\n",
    "- 특정한 소스코드를 반복적으로 실행하고자 할 때 사용하는 문법\n",
    "- 파이썬에서는 `while문`과 `for문`이 있는데, 어느 것을 사용해도 괜찮지만 `for문`이 더 간결한 경우가 많다."
   ]
  },
  {
   "cell_type": "code",
   "execution_count": null,
   "metadata": {},
   "outputs": [],
   "source": [
    "i = 1\n",
    "result = 0\n",
    "\n",
    "while i <= 9:\n",
    "    #if i % 2 ==1 홀수일 경우 조건문 추가\n",
    "    result += i\n",
    "    i += 1\n",
    "\n",
    "print(result)"
   ]
  },
  {
   "cell_type": "markdown",
   "metadata": {},
   "source": [
    "## 반복문:for문\n",
    "- 반복문으로 for문을 이용할 수 있다.\n",
    "- for문의 구조는 다음과 같은데, 특정한 변수를 이용하여 'in' 뒤에 오는 데이터(리스트,튜플 등)에 포함되어 있는 원소를 첫 번째 인덱스부터 차례대로 하나씩 방분한다.\n",
    "```python\n",
    "for 변수 in 리스트:\n",
    "    실행할 소스코드\n",
    "```"
   ]
  },
  {
   "cell_type": "code",
   "execution_count": 14,
   "metadata": {},
   "outputs": [
    {
     "name": "stdout",
     "output_type": "stream",
     "text": [
      "9 8 7 6 5 "
     ]
    }
   ],
   "source": [
    "array = [9, 8, 7, 6, 5]\n",
    "\n",
    "for x in array:\n",
    "    print(x, end=\" \")"
   ]
  },
  {
   "cell_type": "markdown",
   "metadata": {},
   "source": [
    "- for문에서 연속적인 값을 차례대로 순회할 때는 `range()`를 주로 사용한다.\n",
    "    - 이때 `range(시작 값, 끝 값 + 1)` 형태로 사용된다.\n",
    "    - 인자를 하나만 넣으면 자동으로 시작 값은 0이 된다."
   ]
  },
  {
   "cell_type": "code",
   "execution_count": 15,
   "metadata": {},
   "outputs": [
    {
     "name": "stdout",
     "output_type": "stream",
     "text": [
      "45\n"
     ]
    }
   ],
   "source": [
    "result = 0\n",
    "\n",
    "# i는 1부터 9까지의 모든 값을 순회\n",
    "for i in range(1, 10):\n",
    "    result += i\n",
    "print(result)"
   ]
  },
  {
   "cell_type": "markdown",
   "metadata": {},
   "source": [
    "## `continue` 키워드\n",
    "- 반복문에서 남은 코드의 실행을 건너뛰고, 다음 반복을 진행하고자 할 때 `continue`를 사용한다."
   ]
  },
  {
   "cell_type": "code",
   "execution_count": 16,
   "metadata": {},
   "outputs": [
    {
     "name": "stdout",
     "output_type": "stream",
     "text": [
      "25\n"
     ]
    }
   ],
   "source": [
    "result = 0\n",
    "\n",
    "for i in range(1, 10):\n",
    "    if i % 2 == 0:\n",
    "        continue\n",
    "    result += i\n",
    "print(result)"
   ]
  },
  {
   "cell_type": "markdown",
   "metadata": {},
   "source": [
    "## `break` 키워드\n",
    "- 반복문을 즉시 탈출하고자 할 때 `break`을 사용한다."
   ]
  },
  {
   "cell_type": "code",
   "execution_count": 17,
   "metadata": {},
   "outputs": [
    {
     "name": "stdout",
     "output_type": "stream",
     "text": [
      "현재 i의 값: 1\n",
      "현재 i의 값: 2\n",
      "현재 i의 값: 3\n",
      "현재 i의 값: 4\n",
      "현재 i의 값: 5\n"
     ]
    }
   ],
   "source": [
    "i = 1\n",
    "\n",
    "while True:\n",
    "    print(\"현재 i의 값:\", i)\n",
    "    if i == 5:\n",
    "        break\n",
    "    i += 1"
   ]
  },
  {
   "cell_type": "markdown",
   "metadata": {},
   "source": [
    "# 함수와 람다 표현식"
   ]
  },
  {
   "cell_type": "markdown",
   "metadata": {},
   "source": [
    "## 함수\n",
    "- 함수(Function)란 특정한 작업을 하나의 단위로 묶어 놓은 것을 의미한다.\n",
    "- 함수를 통해 불필요한 소스코드의 반복을 줄일 수 있다."
   ]
  },
  {
   "cell_type": "markdown",
   "metadata": {},
   "source": [
    "### 함수의 종류\n",
    "- 내장 함수 : 파이썬이 기본적으로 제공하는 함수(ex : `input()`, `print()`)\n",
    "- 사용자 정의 함수 : 개발자가 직접 정의하여 사용할 수 있는 함수"
   ]
  },
  {
   "cell_type": "markdown",
   "metadata": {},
   "source": [
    "### 함수 정의하기\n",
    "- 프로그램에는 똑같은 코드가 반복적으로 사용되어야 할 때가 많다.\n",
    "- 함수를 사용하면 소스코드의 길이를 줄일 수 있다.\n",
    "    - `매개변수` : 함수 내부에서 사용할 변수\n",
    "    - `반환 값` : 함수에서 처리 된 결과를 반환\n",
    "    ```python\n",
    "    def 함수명(매개변수):\n",
    "        실행할 소스코드\n",
    "        return 반환 값\n",
    "    ```\n",
    "\n",
    "> `parameter`(매개변수) : 함수 내부적으로 전달받고자하는 값을 명시한 것\n",
    "> `argument`(인자) : 함수를 호출할 때 넣는 값"
   ]
  },
  {
   "cell_type": "code",
   "execution_count": 19,
   "metadata": {},
   "outputs": [
    {
     "name": "stdout",
     "output_type": "stream",
     "text": [
      "10\n",
      "함수의 결과:  10\n"
     ]
    }
   ],
   "source": [
    "# 더하기 함수 예시 1)\n",
    "def add(a, b): \n",
    "    return a + b\n",
    "\n",
    "print(add(3, 7)) \n",
    "\n",
    "# 더하기 함수 예시 2)\n",
    "def add(a, b):\n",
    "    print('함수의 결과: ', a + b)\n",
    "\n",
    "add(3, 7)"
   ]
  },
  {
   "cell_type": "markdown",
   "metadata": {},
   "source": [
    "### 파라미터 지정하기\n",
    "- **파라미터의 변수를 직접 지정** 할 수 있다.\n",
    "    - 이 경우 매개변수의 순서가 달라도 상관없다.\n"
   ]
  },
  {
   "cell_type": "code",
   "execution_count": 1,
   "metadata": {},
   "outputs": [
    {
     "name": "stdout",
     "output_type": "stream",
     "text": [
      "함수의 결과:  10\n"
     ]
    }
   ],
   "source": [
    "def add(a,b):\n",
    "    print('함수의 결과: ', a + b)\n",
    "\n",
    "add(b = 3, a = 7)"
   ]
  },
  {
   "cell_type": "markdown",
   "metadata": {},
   "source": [
    "### `global` 키워드\n",
    "- `global`키워드로 변수를 지어하면 해당 함수에서는 지역 변수를 만들지 않고, **함수 바깥에 선언된 변수를 바로 참조** 하게된다.\n"
   ]
  },
  {
   "cell_type": "code",
   "execution_count": 4,
   "metadata": {},
   "outputs": [
    {
     "name": "stdout",
     "output_type": "stream",
     "text": [
      "10\n"
     ]
    }
   ],
   "source": [
    "a = 0\n",
    "\n",
    "def func():\n",
    "    global a\n",
    "    a += 1\n",
    "\n",
    "for i in range(10):\n",
    "    func()\n",
    "\n",
    "print(a)"
   ]
  },
  {
   "cell_type": "code",
   "execution_count": 7,
   "metadata": {},
   "outputs": [
    {
     "name": "stdout",
     "output_type": "stream",
     "text": [
      "[1, 2, 3, 4, 5, 6]\n",
      "[3, 4, 5, 6]\n"
     ]
    }
   ],
   "source": [
    "array = [1,2,3,4,5]\n",
    "\n",
    "def func():\n",
    "    array.append(6)\n",
    "    print(array)\n",
    "\n",
    "func()\n",
    "\n",
    "def funca():\n",
    "## 지역변수를 사용하면 전역변수보다 지역변수가 우선됨.\n",
    "    array = [3, 4, 5] \n",
    "    array.append(6)\n",
    "    print(array)\n",
    "\n",
    "funca()"
   ]
  },
  {
   "cell_type": "markdown",
   "metadata": {},
   "source": [
    "### 여러 개의 반환 값\n",
    "- 파이썬에서 함수는 여러 개의 반환 값을 가질 수 있다."
   ]
  },
  {
   "cell_type": "code",
   "execution_count": 9,
   "metadata": {},
   "outputs": [
    {
     "name": "stdout",
     "output_type": "stream",
     "text": [
      "10 4 21 2.3333333333333335\n"
     ]
    }
   ],
   "source": [
    "def operator(a,b):\n",
    "    add_var = a + b\n",
    "    subtract_var = a - b\n",
    "    multiply_var = a * b\n",
    "    divide_var = a / b\n",
    "    return add_var, subtract_var, multiply_var, divide_var\n",
    "\n",
    "a, b, c, d = operator(7, 3)\n",
    "print(a, b, c, d)"
   ]
  },
  {
   "cell_type": "markdown",
   "metadata": {},
   "source": [
    "## 람다 표현식\n",
    "- 람다 표현식을 이용하면 함수를 간단하게 작성할 수 있다.\n",
    "    - 특정한 기능을 수행하는 함수를 한 줄에 작성할 수 있다는 점이 특징이다."
   ]
  },
  {
   "cell_type": "code",
   "execution_count": 10,
   "metadata": {},
   "outputs": [
    {
     "name": "stdout",
     "output_type": "stream",
     "text": [
      "10\n",
      "10\n"
     ]
    }
   ],
   "source": [
    "def add(a, b):\n",
    "    return a + b\n",
    "\n",
    "# 일반적인 add()메서드 사용\n",
    "print(add(3, 7))\n",
    "\n",
    "# 람다 표현식으로 구현한 add() 메서드\n",
    "print((lambda a, b: a + b)(3, 7))"
   ]
  },
  {
   "cell_type": "markdown",
   "metadata": {},
   "source": [
    "### 람다 표현식 예시 : 내장 함수에서 자주 사용되는 람다 함수"
   ]
  },
  {
   "cell_type": "code",
   "execution_count": 12,
   "metadata": {},
   "outputs": [
    {
     "name": "stdout",
     "output_type": "stream",
     "text": [
      "[('이순신', 32), ('홍길동', 50), ('아무개', 74)]\n",
      "[('이순신', 32), ('홍길동', 50), ('아무개', 74)]\n"
     ]
    }
   ],
   "source": [
    "array = [('홍길동', 50), ('이순신', 32), ('아무개', 74)]\n",
    "\n",
    "def my_key(x):\n",
    "    return x[1] # 두번째 원소만 리턴\n",
    "\n",
    "print(sorted(array, key=my_key))\n",
    "print(sorted(array, key=lambda x: x[1])) #리턴값을 기준으로 정렬\n"
   ]
  },
  {
   "cell_type": "markdown",
   "metadata": {},
   "source": [
    "### 람다 표현식 예시 : 여러 개의 리스트에 적용"
   ]
  },
  {
   "cell_type": "code",
   "execution_count": 13,
   "metadata": {},
   "outputs": [
    {
     "name": "stdout",
     "output_type": "stream",
     "text": [
      "[7, 9, 11, 13, 15]\n"
     ]
    }
   ],
   "source": [
    "list1 = [1, 2, 3, 4, 5]\n",
    "list2 = [6, 7, 8, 9, 10]\n",
    "\n",
    "result = map(lambda a, b: a + b, list1, list2)\n",
    "\n",
    "print(list(result))"
   ]
  },
  {
   "cell_type": "markdown",
   "metadata": {},
   "source": [
    "# 실전에서 유용한 표준 라이브러리\n",
    "- `내장 함수` : 기본 입출력 함수부터 정렬 함수까지 기본적인 함수들을 제공한다.\n",
    "    - 파이썬 프로그램을 작성할 때 없어서는 안 되는 필수적인 기능을 포함하고 있다.\n",
    "- `itertools` : 파이썬에서 반복되는 형태의 데이터를 처리하기 위한 유용한 기능들을 제공한다.\n",
    "    - 특히 순열과 조합 라이브러리는 코딩 테스트에서 자주 사용된다.\n",
    "- `heapq` : 힙(Heap) 자료구조를 제공한다.\n",
    "    - 일반적인 우선순위 큐 기능을 구현하기 위해 사용된다.\n",
    "- `bisect` : 이진 탐색(Binary Search) 기능을 제공한다.\n",
    "- `collections` : 덱(deque), 카운터(Counter) 등의 유용한 자료구조를 포함한다.\n",
    "- `math` : 필수적인 수학적 기능을 제공한다.\n",
    "    - 펙토리얼, 제곱근, 최대공약수(GCD), 삼각함수 관련 함수부터 파이(pi)와 같은 상수를 포함한다."
   ]
  },
  {
   "cell_type": "markdown",
   "metadata": {},
   "source": [
    "## 자주 사용되는 내장 함수"
   ]
  },
  {
   "cell_type": "code",
   "execution_count": 16,
   "metadata": {},
   "outputs": [
    {
     "name": "stdout",
     "output_type": "stream",
     "text": [
      "15\n",
      "2 7\n",
      "56\n",
      "[1, 4, 5, 8, 9]\n",
      "[9, 8, 5, 4, 1]\n",
      "[('이순신', 75), ('아무개', 50), ('홍길동', 35)]\n"
     ]
    }
   ],
   "source": [
    "# sum()\n",
    "result = sum([1, 2, 3, 4, 5])\n",
    "print(result)\n",
    "\n",
    "# min(), max()\n",
    "min_result = min(7, 3, 5, 2)\n",
    "max_result = max(7, 3, 5, 2)\n",
    "print(min_result, max_result)\n",
    "\n",
    "# eval()\n",
    "result = eval(\"(3 + 5) * 7\")\n",
    "print(result)\n",
    "\n",
    "# sorted()\n",
    "result = sorted([9, 1, 8, 5, 4])\n",
    "reverse_result = sorted([9, 1, 8, 5, 4], reverse=True)\n",
    "print(result)\n",
    "print(reverse_result)\n",
    "\n",
    "# sorted() with key\n",
    "array = [('홍길동', 35), ('이순신', 75), ('아무개', 50)]\n",
    "result = sorted(array, key=lambda x: x[1], reverse = True)\n",
    "print(result)"
   ]
  },
  {
   "cell_type": "markdown",
   "metadata": {},
   "source": [
    "## 순열과 조합\n",
    "- 모든 경우의 수를 고려해야 할 때 효과적인 라이브러리\n",
    "- `순열` : 서로 다른 n개에서 서로 다른 `r`개를 선택하여 일렬로 나열하는 것\n",
    "    - {'A', 'B', 'C'}에서 세 개를 선택하여 나열하는 경우: 'ABC', 'ACB', 'BAC', 'BCA', 'CAB', 'CBA'\n",
    "    \n",
    "- `조합` : 서로 다른 n개에서 순서에 상관 없이 서로 다른 r개를 선택하는 것\n",
    "    - {'A', 'B', 'C'}에서 순서를 고려하지 않고 두 개를 뽑는 경우 : 'AB', 'AC', 'BC'\n",
    "\n",
    "```\n",
    "순열의 수 \n",
    "𝗇Pᵣ = n * (n - 1) * (n - 2) * ・・・ * (n - r + 1)\n",
    "조합의 수\n",
    "𝗇Cᵣ = n * (n - 1) * (n - 2) * ・・・ * (n - r + 1) / r!\n",
    "```"
   ]
  },
  {
   "cell_type": "code",
   "execution_count": 1,
   "metadata": {},
   "outputs": [
    {
     "name": "stdout",
     "output_type": "stream",
     "text": [
      "[('A', 'B', 'C'), ('A', 'C', 'B'), ('B', 'A', 'C'), ('B', 'C', 'A'), ('C', 'A', 'B'), ('C', 'B', 'A')]\n"
     ]
    }
   ],
   "source": [
    "# 순열\n",
    "from itertools import permutations\n",
    "\n",
    "data = ['A', 'B', 'C'] # 데이터 준비\n",
    "\n",
    "result = list(permutations(data, 3)) # 모든 순열 구하기\n",
    "print(result)"
   ]
  },
  {
   "cell_type": "code",
   "execution_count": 2,
   "metadata": {},
   "outputs": [
    {
     "name": "stdout",
     "output_type": "stream",
     "text": [
      "[('A', 'B'), ('A', 'C'), ('B', 'C')]\n"
     ]
    }
   ],
   "source": [
    "# 조합\n",
    "from itertools import combinations\n",
    "\n",
    "data = ['A', 'B', 'C'] # 데이터 준비\n",
    "\n",
    "result = list(combinations(data, 2)) # 2개를 뽑는 모든 조합 구하기\n",
    "print(result)"
   ]
  },
  {
   "cell_type": "code",
   "execution_count": 3,
   "metadata": {},
   "outputs": [
    {
     "name": "stdout",
     "output_type": "stream",
     "text": [
      "[('A', 'A'), ('A', 'B'), ('A', 'C'), ('B', 'A'), ('B', 'B'), ('B', 'C'), ('C', 'A'), ('C', 'B'), ('C', 'C')]\n"
     ]
    }
   ],
   "source": [
    "# 중복 순열\n",
    "from itertools import product\n",
    "\n",
    "data = ['A', 'B', 'C'] # 데이터 준비\n",
    "\n",
    "result = list(product(data, repeat=2)) # 2개를 뽑는 모든 순열 구하기(중복 허용)\n",
    "print(result)"
   ]
  },
  {
   "cell_type": "code",
   "execution_count": 4,
   "metadata": {},
   "outputs": [
    {
     "name": "stdout",
     "output_type": "stream",
     "text": [
      "[('A', 'A'), ('A', 'B'), ('A', 'C'), ('B', 'B'), ('B', 'C'), ('C', 'C')]\n"
     ]
    }
   ],
   "source": [
    "#중복 조합\n",
    "from itertools import combinations_with_replacement\n",
    "\n",
    "data = ['A', 'B', 'C'] # 데이터 준비\n",
    "\n",
    "result = list(combinations_with_replacement(data, 2)) # 2개를 뽑는 모든 조합 구하기(중복 허용)\n",
    "print(result)"
   ]
  },
  {
   "cell_type": "markdown",
   "metadata": {},
   "source": [
    "## `Counter`\n",
    "\n",
    "- 파이썬 `collections` 라이브러리의 `Counter`는 등장 횟수를 세는 기능을 제공한다.\n",
    "- 리스트와 같은 반복 가능한(iterable) 객체가 주어졌을 때 <U>내부의 원소가 몇 번씩 등장했는지</U>를 알려준다."
   ]
  },
  {
   "cell_type": "code",
   "execution_count": 5,
   "metadata": {},
   "outputs": [
    {
     "name": "stdout",
     "output_type": "stream",
     "text": [
      "3\n",
      "1\n",
      "{'red': 2, 'blue': 3, 'green': 1}\n"
     ]
    }
   ],
   "source": [
    "from collections import Counter\n",
    "\n",
    "counter = Counter(['red', 'blue', 'red', 'green', 'blue', 'blue'])\n",
    "\n",
    "print(counter['blue'])  # 'blue'가 등장한 횟수 출력\n",
    "print(counter['green']) # 'green'이 등장한 횟수 출력\n",
    "print(dict(counter)) # 사전 자료형으로 반환"
   ]
  },
  {
   "cell_type": "markdown",
   "metadata": {},
   "source": [
    "## 최대 공약수와 최소 공배수\n",
    "\n",
    "- 최대 공약수를 구해야 할 때는 `math` 라이브러리의 `gcd()` 함수를 이용할 수 있다."
   ]
  },
  {
   "cell_type": "code",
   "execution_count": 6,
   "metadata": {},
   "outputs": [
    {
     "name": "stdout",
     "output_type": "stream",
     "text": [
      "7\n",
      "42\n"
     ]
    }
   ],
   "source": [
    "import math\n",
    "\n",
    "# 최소 공배수(LCM)를 구하는 함수\n",
    "def lcm(a, b):\n",
    "    return a * b // math.gcd(a, b)\n",
    "\n",
    "a = 21\n",
    "b = 14\n",
    "\n",
    "print(math.gcd(21, 14)) # 최대 공약수(GCD) 계산\n",
    "print(lcm(21, 14)) # 최소 공배수(LCM)계산"
   ]
  }
 ],
 "metadata": {
  "kernelspec": {
   "display_name": "py310",
   "language": "python",
   "name": "py310"
  },
  "language_info": {
   "codemirror_mode": {
    "name": "ipython",
    "version": 3
   },
   "file_extension": ".py",
   "mimetype": "text/x-python",
   "name": "python",
   "nbconvert_exporter": "python",
   "pygments_lexer": "ipython3",
   "version": "3.10.11"
  }
 },
 "nbformat": 4,
 "nbformat_minor": 2
}
