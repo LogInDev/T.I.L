{
 "cells": [
  {
   "cell_type": "markdown",
   "metadata": {},
   "source": [
    "## 빅오 표기법(Big-O Notation)\n",
    "|좋음(Better)| 순위 | 명칭|\n",
    "|---|---|---|\n",
    "|⇡|O(1) | 상수 시간(Constant time)|\n",
    "|  ・|O(lonN)| 로그 시간(Log time)|\n",
    "|  ・|O(N) | 선형 시간|\n",
    "|  ・|O(NlogN)|로그 선형 시간|\n",
    "|  ・|O(N²)|이차 시간|\n",
    "|⇣|O(N³)|삼차 시간|\n",
    "|나쁨(Worse)|O(2ⁿ)|지수 시간|\n"
   ]
  },
  {
   "cell_type": "markdown",
   "metadata": {},
   "source": [
    "### 시간 복잡도 : O(N) "
   ]
  },
  {
   "cell_type": "code",
   "execution_count": 2,
   "metadata": {},
   "outputs": [
    {
     "name": "stdout",
     "output_type": "stream",
     "text": [
      "15\n"
     ]
    }
   ],
   "source": [
    "array = [3, 5, 1, 2, 4]\n",
    "summary = 0\n",
    "\n",
    "for x in array:\n",
    "    summary += x\n",
    "\n",
    "print(summary)"
   ]
  },
  {
   "cell_type": "markdown",
   "metadata": {},
   "source": [
    "### 시간 복잡도 : O(N²)\n",
    "소스코드가 내부적으로 다른 함수를 호출한다면 그 함수의 시간 복잡도까지 고려해야 한다."
   ]
  },
  {
   "cell_type": "code",
   "execution_count": 3,
   "metadata": {},
   "outputs": [
    {
     "name": "stdout",
     "output_type": "stream",
     "text": [
      "9\n",
      "12\n",
      "3\n",
      "6\n",
      "12\n",
      "12\n",
      "16\n",
      "4\n",
      "8\n",
      "16\n",
      "3\n",
      "4\n",
      "1\n",
      "2\n",
      "4\n",
      "6\n",
      "8\n",
      "2\n",
      "4\n",
      "8\n",
      "12\n",
      "16\n",
      "4\n",
      "8\n",
      "16\n"
     ]
    }
   ],
   "source": [
    "array = [3, 4, 1, 2, 4]\n",
    "\n",
    "for i in array:\n",
    "    for j in array:\n",
    "        temp = i * j\n",
    "        print(temp)"
   ]
  },
  {
   "cell_type": "markdown",
   "metadata": {},
   "source": [
    "### 알고리즘 설계 Tip(feat. 시간복잡도)\n",
    "- 일반적으로 CPU 기반의 개인 컴퓨터나 채점용 컴퓨터에서 연산 횟수가 5억을 넘어가는 경우:\n",
    "    - Python을 기준으로 통상 5 ~ 15초 가량의 시간이 소요됩니다.\n",
    "    - PyPy의 경우 때때로 더 빠르게 동작하기도 함.\n",
    "- 코딩 테스트 문제에서 시간제한은 통상 1 ~ 5초가량이라는 점을 유의\n",
    "    - 혹여 문제에 시간제한이 명시되어 있지 않은 경우 대략 5초 정도라고 생각하고 문제를 푸는 것이 합리적이다."
   ]
  },
  {
   "cell_type": "markdown",
   "metadata": {},
   "source": [
    "### 요구사항에 따라 적절한 알고리즘 설계하기\n",
    "- 문제에서 가장 먼저 확인해야 하는 애용은 시간제한(수행시간 요구사항)이다.\n",
    "- 시간제한이 1초인 문제를 만났을 때, 일반적인 기준은 다음과 같다.\n",
    "    - N의 범위가 500인 경우 : 시간 복잡도가 O(N³)인 알고리즘을 설계하면 문제를 풀 수 있다.\n",
    "    - N의 범위가 2,000인 경우 : 시간 복잡도가 O(N²)인 알고리즘을 설계하면 문제를 풀 수 있다.\n",
    "    - N의 범위가 100,000인 경우 : 시간 복잡도가 O(NlogN)인 알고리즘을 설계하면 문제를 풀 수 있다.\n",
    "    - N의 범위가 10,000,000인 경우 : 시간 복잡도가 O(N)인 알고리즘을 설게하면 문제를 풀 수 있다."
   ]
  },
  {
   "cell_type": "markdown",
   "metadata": {},
   "source": [
    "## 수행 시간 측정 소스코드 예제"
   ]
  },
  {
   "cell_type": "code",
   "execution_count": null,
   "metadata": {},
   "outputs": [],
   "source": [
    "import time\n",
    "start_time = time.time() # 측정 시작\n",
    "\n",
    "# 프로그램 소스 코드\n",
    "\n",
    "end_time = time.time()\n",
    "print(\"time : \", end_time - start_time)"
   ]
  }
 ],
 "metadata": {
  "kernelspec": {
   "display_name": "py310",
   "language": "python",
   "name": "python3"
  },
  "language_info": {
   "codemirror_mode": {
    "name": "ipython",
    "version": 3
   },
   "file_extension": ".py",
   "mimetype": "text/x-python",
   "name": "python",
   "nbconvert_exporter": "python",
   "pygments_lexer": "ipython3",
   "version": "3.10.11"
  }
 },
 "nbformat": 4,
 "nbformat_minor": 2
}
